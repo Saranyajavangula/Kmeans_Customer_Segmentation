{
 "cells": [
  {
   "cell_type": "markdown",
   "id": "9afb755b-fbf7-44df-99f0-526a52903e97",
   "metadata": {},
   "source": [
    "## Customer Segmentation"
   ]
  },
  {
   "cell_type": "markdown",
   "id": "899e41e1-9a59-4c89-b765-db30298c4146",
   "metadata": {},
   "source": [
    "### Table of Contents:\n",
    "1. Data Preparation\n",
    "2. Exploring the content of variables\n",
    "3. Insight on Market Analysis\n",
    "4. customer categories\n",
    "5. Classification of customers using K-Means\n",
    "6. conclusion "
   ]
  },
  {
   "cell_type": "markdown",
   "id": "7a8f5360-49c2-4fb9-9554-3256b35e001a",
   "metadata": {},
   "source": [
    "### 1. Data Preparation"
   ]
  },
  {
   "cell_type": "markdown",
   "id": "a8fcf19a-b199-4a1b-9374-60543650515e",
   "metadata": {},
   "source": [
    "As a first step, load all the modules that will be used in this notebook:"
   ]
  },
  {
   "cell_type": "code",
   "execution_count": 75,
   "id": "e3c2de32-3e3f-486e-b862-1f29bb19da50",
   "metadata": {},
   "outputs": [],
   "source": [
    "import pandas as pd \n",
    "import sqlite3 \n",
    "import numpy as np \n",
    "import matplotlib.pyplot as plt \n",
    "import seaborn as sns \n",
    "import warnings \n",
    "warnings.filterwarnings(\"ignore\")\n",
    "from sklearn.cluster import KMeans"
   ]
  },
  {
   "cell_type": "markdown",
   "id": "cf75d17e-d6eb-4362-8b2b-616f4f0d9f0d",
   "metadata": {},
   "source": [
    "Once done, let's explore some basic information on the content of the dataframe: the type of the various variables, the number of null values and their percentage with respect to the total number of entries:"
   ]
  },
  {
   "cell_type": "code",
   "execution_count": 2,
   "id": "fc32d260-2cc3-40c2-b407-c14797afe762",
   "metadata": {},
   "outputs": [
    {
     "data": {
      "text/plain": [
       "<sqlite3.Connection at 0x23e30058130>"
      ]
     },
     "execution_count": 2,
     "metadata": {},
     "output_type": "execute_result"
    }
   ],
   "source": [
    "# making connection to the database \n",
    "conn=  sqlite3.connect(\"./Data/bootcamp_db\")\n",
    "conn"
   ]
  },
  {
   "cell_type": "code",
   "execution_count": 3,
   "id": "2e201b3b-566c-400e-9cd5-be71cdbb569d",
   "metadata": {},
   "outputs": [],
   "source": [
    "sql_query = \"\"\"SELECT name \n",
    "                FROM sqlite_master \n",
    "                where type = 'table';\"\"\""
   ]
  },
  {
   "cell_type": "code",
   "execution_count": 4,
   "id": "f57b6d40-9d48-4886-ad71-02b633e9da93",
   "metadata": {},
   "outputs": [],
   "source": [
    "cursor = conn.cursor()"
   ]
  },
  {
   "cell_type": "code",
   "execution_count": 5,
   "id": "34ef6454-157c-4151-aaba-19e63a967760",
   "metadata": {},
   "outputs": [
    {
     "data": {
      "text/plain": [
       "<sqlite3.Cursor at 0x23e30045940>"
      ]
     },
     "execution_count": 5,
     "metadata": {},
     "output_type": "execute_result"
    }
   ],
   "source": [
    "cursor.execute(sql_query)"
   ]
  },
  {
   "cell_type": "code",
   "execution_count": 6,
   "id": "36c4716b-1eec-4a2c-9ced-cb0c824c6966",
   "metadata": {},
   "outputs": [
    {
     "name": "stdout",
     "output_type": "stream",
     "text": [
      "list of tables in the database:\n",
      "[('online_transactions',), ('stock_description',), ('online_transactions_cleaned',)]\n"
     ]
    }
   ],
   "source": [
    "print(f\"list of tables in the database:\\n{cursor.fetchall()}\")"
   ]
  },
  {
   "cell_type": "code",
   "execution_count": 7,
   "id": "267d9ce2-2b9b-47bf-b0ef-96bb6090cb57",
   "metadata": {},
   "outputs": [],
   "source": [
    "#query that loding online _transactions table in to the online_transactions variable\n",
    "query = \"\"\" select * \n",
    "            from online_transactions\"\"\"\n",
    "online_transactions = pd.read_sql(query,conn)\n"
   ]
  },
  {
   "cell_type": "code",
   "execution_count": 8,
   "id": "153c0360-d680-4edb-9799-60f8171a2e9c",
   "metadata": {},
   "outputs": [
    {
     "data": {
      "text/html": [
       "<div>\n",
       "<style scoped>\n",
       "    .dataframe tbody tr th:only-of-type {\n",
       "        vertical-align: middle;\n",
       "    }\n",
       "\n",
       "    .dataframe tbody tr th {\n",
       "        vertical-align: top;\n",
       "    }\n",
       "\n",
       "    .dataframe thead th {\n",
       "        text-align: right;\n",
       "    }\n",
       "</style>\n",
       "<table border=\"1\" class=\"dataframe\">\n",
       "  <thead>\n",
       "    <tr style=\"text-align: right;\">\n",
       "      <th></th>\n",
       "      <th>invoice</th>\n",
       "      <th>stock_code</th>\n",
       "      <th>quantity</th>\n",
       "      <th>invoice_date</th>\n",
       "      <th>price</th>\n",
       "      <th>customer_id</th>\n",
       "      <th>country</th>\n",
       "    </tr>\n",
       "  </thead>\n",
       "  <tbody>\n",
       "    <tr>\n",
       "      <th>0</th>\n",
       "      <td>536370</td>\n",
       "      <td>21791</td>\n",
       "      <td>24</td>\n",
       "      <td>2010-12-01 08:45:00</td>\n",
       "      <td>1.25</td>\n",
       "      <td>u12583</td>\n",
       "      <td>France</td>\n",
       "    </tr>\n",
       "    <tr>\n",
       "      <th>1</th>\n",
       "      <td>536373</td>\n",
       "      <td>82494L</td>\n",
       "      <td>6</td>\n",
       "      <td>2010-12-01 09:02:00</td>\n",
       "      <td>2.55</td>\n",
       "      <td>u1785</td>\n",
       "      <td>United Kingdom</td>\n",
       "    </tr>\n",
       "    <tr>\n",
       "      <th>2</th>\n",
       "      <td>536378</td>\n",
       "      <td>21929</td>\n",
       "      <td>10</td>\n",
       "      <td>2010-12-01 09:37:00</td>\n",
       "      <td>1.95</td>\n",
       "      <td>u14688</td>\n",
       "      <td>United Kingdom</td>\n",
       "    </tr>\n",
       "    <tr>\n",
       "      <th>3</th>\n",
       "      <td>536381</td>\n",
       "      <td>37444A</td>\n",
       "      <td>1</td>\n",
       "      <td>2010-12-01 09:41:00</td>\n",
       "      <td>2.95</td>\n",
       "      <td>u15311</td>\n",
       "      <td>United Kingdom</td>\n",
       "    </tr>\n",
       "    <tr>\n",
       "      <th>4</th>\n",
       "      <td>536381</td>\n",
       "      <td>15056BL</td>\n",
       "      <td>2</td>\n",
       "      <td>2010-12-01 09:41:00</td>\n",
       "      <td>5.95</td>\n",
       "      <td>u15311</td>\n",
       "      <td>United Kingdom</td>\n",
       "    </tr>\n",
       "    <tr>\n",
       "      <th>...</th>\n",
       "      <td>...</td>\n",
       "      <td>...</td>\n",
       "      <td>...</td>\n",
       "      <td>...</td>\n",
       "      <td>...</td>\n",
       "      <td>...</td>\n",
       "      <td>...</td>\n",
       "    </tr>\n",
       "    <tr>\n",
       "      <th>541905</th>\n",
       "      <td>581580</td>\n",
       "      <td>22698</td>\n",
       "      <td>1</td>\n",
       "      <td>2011-12-09 12:20:00</td>\n",
       "      <td>2.95</td>\n",
       "      <td>u12748</td>\n",
       "      <td>United Kingdom</td>\n",
       "    </tr>\n",
       "    <tr>\n",
       "      <th>541906</th>\n",
       "      <td>581584</td>\n",
       "      <td>20832</td>\n",
       "      <td>72</td>\n",
       "      <td>2011-12-09 12:25:00</td>\n",
       "      <td>0.72</td>\n",
       "      <td>u13777</td>\n",
       "      <td>United Kingdom</td>\n",
       "    </tr>\n",
       "    <tr>\n",
       "      <th>541907</th>\n",
       "      <td>581585</td>\n",
       "      <td>22178</td>\n",
       "      <td>12</td>\n",
       "      <td>2011-12-09 12:31:00</td>\n",
       "      <td>1.95</td>\n",
       "      <td>u15804</td>\n",
       "      <td>United Kingdom</td>\n",
       "    </tr>\n",
       "    <tr>\n",
       "      <th>541908</th>\n",
       "      <td>581585</td>\n",
       "      <td>84692</td>\n",
       "      <td>25</td>\n",
       "      <td>2011-12-09 12:31:00</td>\n",
       "      <td>0.42</td>\n",
       "      <td>u15804</td>\n",
       "      <td>United Kingdom</td>\n",
       "    </tr>\n",
       "    <tr>\n",
       "      <th>541909</th>\n",
       "      <td>581586</td>\n",
       "      <td>23275</td>\n",
       "      <td>24</td>\n",
       "      <td>2011-12-09 12:49:00</td>\n",
       "      <td>1.25</td>\n",
       "      <td>u13113</td>\n",
       "      <td>United Kingdom</td>\n",
       "    </tr>\n",
       "  </tbody>\n",
       "</table>\n",
       "<p>541910 rows × 7 columns</p>\n",
       "</div>"
      ],
      "text/plain": [
       "       invoice stock_code  quantity         invoice_date  price customer_id  \\\n",
       "0       536370      21791        24  2010-12-01 08:45:00   1.25      u12583   \n",
       "1       536373     82494L         6  2010-12-01 09:02:00   2.55       u1785   \n",
       "2       536378      21929        10  2010-12-01 09:37:00   1.95      u14688   \n",
       "3       536381     37444A         1  2010-12-01 09:41:00   2.95      u15311   \n",
       "4       536381    15056BL         2  2010-12-01 09:41:00   5.95      u15311   \n",
       "...        ...        ...       ...                  ...    ...         ...   \n",
       "541905  581580      22698         1  2011-12-09 12:20:00   2.95      u12748   \n",
       "541906  581584      20832        72  2011-12-09 12:25:00   0.72      u13777   \n",
       "541907  581585      22178        12  2011-12-09 12:31:00   1.95      u15804   \n",
       "541908  581585      84692        25  2011-12-09 12:31:00   0.42      u15804   \n",
       "541909  581586      23275        24  2011-12-09 12:49:00   1.25      u13113   \n",
       "\n",
       "               country  \n",
       "0               France  \n",
       "1       United Kingdom  \n",
       "2       United Kingdom  \n",
       "3       United Kingdom  \n",
       "4       United Kingdom  \n",
       "...                ...  \n",
       "541905  United Kingdom  \n",
       "541906  United Kingdom  \n",
       "541907  United Kingdom  \n",
       "541908  United Kingdom  \n",
       "541909  United Kingdom  \n",
       "\n",
       "[541910 rows x 7 columns]"
      ]
     },
     "execution_count": 8,
     "metadata": {},
     "output_type": "execute_result"
    }
   ],
   "source": [
    "online_transactions\n"
   ]
  },
  {
   "cell_type": "code",
   "execution_count": 9,
   "id": "4669cce0-74bc-4690-8a73-61ac8d3020e4",
   "metadata": {},
   "outputs": [],
   "source": [
    "# query that loading stock_description table in to stock_description variable\n",
    "query= \"\"\"select *\n",
    "        from stock_description\"\"\"\n",
    "stock_description = pd.read_sql(query,conn)"
   ]
  },
  {
   "cell_type": "code",
   "execution_count": 10,
   "id": "0ab11321-2cbd-47ed-913a-ad0ecf1668ac",
   "metadata": {},
   "outputs": [
    {
     "data": {
      "text/html": [
       "<div>\n",
       "<style scoped>\n",
       "    .dataframe tbody tr th:only-of-type {\n",
       "        vertical-align: middle;\n",
       "    }\n",
       "\n",
       "    .dataframe tbody tr th {\n",
       "        vertical-align: top;\n",
       "    }\n",
       "\n",
       "    .dataframe thead th {\n",
       "        text-align: right;\n",
       "    }\n",
       "</style>\n",
       "<table border=\"1\" class=\"dataframe\">\n",
       "  <thead>\n",
       "    <tr style=\"text-align: right;\">\n",
       "      <th></th>\n",
       "      <th>stock_code</th>\n",
       "      <th>description</th>\n",
       "    </tr>\n",
       "  </thead>\n",
       "  <tbody>\n",
       "    <tr>\n",
       "      <th>0</th>\n",
       "      <td>10002</td>\n",
       "      <td>INFLATABLE POLITICAL GLOBE</td>\n",
       "    </tr>\n",
       "    <tr>\n",
       "      <th>1</th>\n",
       "      <td>10080</td>\n",
       "      <td>GROOVY CACTUS INFLATABLE</td>\n",
       "    </tr>\n",
       "    <tr>\n",
       "      <th>2</th>\n",
       "      <td>10120</td>\n",
       "      <td>DOGGY RUBBER</td>\n",
       "    </tr>\n",
       "    <tr>\n",
       "      <th>3</th>\n",
       "      <td>10123C</td>\n",
       "      <td>HEARTS WRAPPING TAPE</td>\n",
       "    </tr>\n",
       "    <tr>\n",
       "      <th>4</th>\n",
       "      <td>10124A</td>\n",
       "      <td>SPOTS ON RED BOOKCOVER TAPE</td>\n",
       "    </tr>\n",
       "    <tr>\n",
       "      <th>...</th>\n",
       "      <td>...</td>\n",
       "      <td>...</td>\n",
       "    </tr>\n",
       "    <tr>\n",
       "      <th>3947</th>\n",
       "      <td>DCGSSGIRL</td>\n",
       "      <td>GIRLS PARTY BAG</td>\n",
       "    </tr>\n",
       "    <tr>\n",
       "      <th>3948</th>\n",
       "      <td>DOT</td>\n",
       "      <td>DOTCOM POSTAGE</td>\n",
       "    </tr>\n",
       "    <tr>\n",
       "      <th>3949</th>\n",
       "      <td>PADS</td>\n",
       "      <td>PADS TO MATCH ALL CUSHIONS</td>\n",
       "    </tr>\n",
       "    <tr>\n",
       "      <th>3950</th>\n",
       "      <td>POST</td>\n",
       "      <td>POSTAGE</td>\n",
       "    </tr>\n",
       "    <tr>\n",
       "      <th>3951</th>\n",
       "      <td>S</td>\n",
       "      <td>SAMPLES</td>\n",
       "    </tr>\n",
       "  </tbody>\n",
       "</table>\n",
       "<p>3952 rows × 2 columns</p>\n",
       "</div>"
      ],
      "text/plain": [
       "     stock_code                  description\n",
       "0         10002  INFLATABLE POLITICAL GLOBE \n",
       "1         10080     GROOVY CACTUS INFLATABLE\n",
       "2         10120                 DOGGY RUBBER\n",
       "3        10123C        HEARTS WRAPPING TAPE \n",
       "4        10124A  SPOTS ON RED BOOKCOVER TAPE\n",
       "...         ...                          ...\n",
       "3947  DCGSSGIRL              GIRLS PARTY BAG\n",
       "3948        DOT               DOTCOM POSTAGE\n",
       "3949       PADS   PADS TO MATCH ALL CUSHIONS\n",
       "3950       POST                      POSTAGE\n",
       "3951          S                      SAMPLES\n",
       "\n",
       "[3952 rows x 2 columns]"
      ]
     },
     "execution_count": 10,
     "metadata": {},
     "output_type": "execute_result"
    }
   ],
   "source": [
    "stock_description"
   ]
  },
  {
   "cell_type": "code",
   "execution_count": 11,
   "id": "6867d446-a12c-4aeb-9ed2-642856f997dc",
   "metadata": {},
   "outputs": [],
   "source": [
    "# cleaning the data \n",
    "query=\"\"\"select ot.invoice,\n",
    "                  ot.stock_code,\n",
    "             CASE\n",
    "                when description IS NULL then 'Unknown'\n",
    "                else description\n",
    "                end as description,\n",
    "                ot.price * ot.quantity  as total_cost,\n",
    "                ot.invoice_date,\n",
    "                ot.price,\n",
    "                ot.quantity,\n",
    "                ot.customer_id,\n",
    "                ot.country\n",
    "              from online_transactions ot\n",
    "              left join (select * \n",
    "                          from stock_description \n",
    "                            where description <> '?' ) sd on ot.stock_code = sd.stock_code\n",
    "             where  ot.customer_id <> ''\n",
    "             and ot.stock_code not in ('BANK CHARGES', 'POST', 'D', 'M', 'CRUK')\"\"\""
   ]
  },
  {
   "cell_type": "code",
   "execution_count": 12,
   "id": "a1230fbf-81f4-48be-b646-d612195618d0",
   "metadata": {},
   "outputs": [],
   "source": [
    "ot_clean=pd.read_sql(query,conn)"
   ]
  },
  {
   "cell_type": "code",
   "execution_count": 13,
   "id": "c37bc243-ab9e-4433-a26b-d3cae6ce475e",
   "metadata": {},
   "outputs": [
    {
     "data": {
      "text/html": [
       "<div>\n",
       "<style scoped>\n",
       "    .dataframe tbody tr th:only-of-type {\n",
       "        vertical-align: middle;\n",
       "    }\n",
       "\n",
       "    .dataframe tbody tr th {\n",
       "        vertical-align: top;\n",
       "    }\n",
       "\n",
       "    .dataframe thead th {\n",
       "        text-align: right;\n",
       "    }\n",
       "</style>\n",
       "<table border=\"1\" class=\"dataframe\">\n",
       "  <thead>\n",
       "    <tr style=\"text-align: right;\">\n",
       "      <th></th>\n",
       "      <th>invoice</th>\n",
       "      <th>stock_code</th>\n",
       "      <th>description</th>\n",
       "      <th>total_cost</th>\n",
       "      <th>invoice_date</th>\n",
       "      <th>price</th>\n",
       "      <th>quantity</th>\n",
       "      <th>customer_id</th>\n",
       "      <th>country</th>\n",
       "    </tr>\n",
       "  </thead>\n",
       "  <tbody>\n",
       "    <tr>\n",
       "      <th>0</th>\n",
       "      <td>536370</td>\n",
       "      <td>21791</td>\n",
       "      <td>VINTAGE HEADS AND TAILS CARD GAME</td>\n",
       "      <td>30.00</td>\n",
       "      <td>2010-12-01 08:45:00</td>\n",
       "      <td>1.25</td>\n",
       "      <td>24</td>\n",
       "      <td>u12583</td>\n",
       "      <td>France</td>\n",
       "    </tr>\n",
       "    <tr>\n",
       "      <th>1</th>\n",
       "      <td>536373</td>\n",
       "      <td>82494L</td>\n",
       "      <td>WOODEN FRAME ANTIQUE WHITE</td>\n",
       "      <td>15.30</td>\n",
       "      <td>2010-12-01 09:02:00</td>\n",
       "      <td>2.55</td>\n",
       "      <td>6</td>\n",
       "      <td>u1785</td>\n",
       "      <td>United Kingdom</td>\n",
       "    </tr>\n",
       "    <tr>\n",
       "      <th>2</th>\n",
       "      <td>536378</td>\n",
       "      <td>21929</td>\n",
       "      <td>JUMBO BAG PINK VINTAGE PAISLEY</td>\n",
       "      <td>19.50</td>\n",
       "      <td>2010-12-01 09:37:00</td>\n",
       "      <td>1.95</td>\n",
       "      <td>10</td>\n",
       "      <td>u14688</td>\n",
       "      <td>United Kingdom</td>\n",
       "    </tr>\n",
       "    <tr>\n",
       "      <th>3</th>\n",
       "      <td>536381</td>\n",
       "      <td>37444A</td>\n",
       "      <td>YELLOW BREAKFAST CUP AND SAUCER</td>\n",
       "      <td>2.95</td>\n",
       "      <td>2010-12-01 09:41:00</td>\n",
       "      <td>2.95</td>\n",
       "      <td>1</td>\n",
       "      <td>u15311</td>\n",
       "      <td>United Kingdom</td>\n",
       "    </tr>\n",
       "    <tr>\n",
       "      <th>4</th>\n",
       "      <td>536381</td>\n",
       "      <td>15056BL</td>\n",
       "      <td>EDWARDIAN PARASOL BLACK</td>\n",
       "      <td>11.90</td>\n",
       "      <td>2010-12-01 09:41:00</td>\n",
       "      <td>5.95</td>\n",
       "      <td>2</td>\n",
       "      <td>u15311</td>\n",
       "      <td>United Kingdom</td>\n",
       "    </tr>\n",
       "    <tr>\n",
       "      <th>...</th>\n",
       "      <td>...</td>\n",
       "      <td>...</td>\n",
       "      <td>...</td>\n",
       "      <td>...</td>\n",
       "      <td>...</td>\n",
       "      <td>...</td>\n",
       "      <td>...</td>\n",
       "      <td>...</td>\n",
       "      <td>...</td>\n",
       "    </tr>\n",
       "    <tr>\n",
       "      <th>405058</th>\n",
       "      <td>581580</td>\n",
       "      <td>22698</td>\n",
       "      <td>PINK REGENCY TEACUP AND SAUCER</td>\n",
       "      <td>2.95</td>\n",
       "      <td>2011-12-09 12:20:00</td>\n",
       "      <td>2.95</td>\n",
       "      <td>1</td>\n",
       "      <td>u12748</td>\n",
       "      <td>United Kingdom</td>\n",
       "    </tr>\n",
       "    <tr>\n",
       "      <th>405059</th>\n",
       "      <td>581584</td>\n",
       "      <td>20832</td>\n",
       "      <td>RED FLOCK LOVE HEART PHOTO FRAME</td>\n",
       "      <td>51.84</td>\n",
       "      <td>2011-12-09 12:25:00</td>\n",
       "      <td>0.72</td>\n",
       "      <td>72</td>\n",
       "      <td>u13777</td>\n",
       "      <td>United Kingdom</td>\n",
       "    </tr>\n",
       "    <tr>\n",
       "      <th>405060</th>\n",
       "      <td>581585</td>\n",
       "      <td>22178</td>\n",
       "      <td>VICTORIAN GLASS HANGING T-LIGHT</td>\n",
       "      <td>23.40</td>\n",
       "      <td>2011-12-09 12:31:00</td>\n",
       "      <td>1.95</td>\n",
       "      <td>12</td>\n",
       "      <td>u15804</td>\n",
       "      <td>United Kingdom</td>\n",
       "    </tr>\n",
       "    <tr>\n",
       "      <th>405061</th>\n",
       "      <td>581585</td>\n",
       "      <td>84692</td>\n",
       "      <td>BOX OF 24 COCKTAIL PARASOLS</td>\n",
       "      <td>10.50</td>\n",
       "      <td>2011-12-09 12:31:00</td>\n",
       "      <td>0.42</td>\n",
       "      <td>25</td>\n",
       "      <td>u15804</td>\n",
       "      <td>United Kingdom</td>\n",
       "    </tr>\n",
       "    <tr>\n",
       "      <th>405062</th>\n",
       "      <td>581586</td>\n",
       "      <td>23275</td>\n",
       "      <td>SET OF 3 HANGING OWLS OLLIE BEAK</td>\n",
       "      <td>30.00</td>\n",
       "      <td>2011-12-09 12:49:00</td>\n",
       "      <td>1.25</td>\n",
       "      <td>24</td>\n",
       "      <td>u13113</td>\n",
       "      <td>United Kingdom</td>\n",
       "    </tr>\n",
       "  </tbody>\n",
       "</table>\n",
       "<p>405063 rows × 9 columns</p>\n",
       "</div>"
      ],
      "text/plain": [
       "       invoice stock_code                         description  total_cost  \\\n",
       "0       536370      21791  VINTAGE HEADS AND TAILS CARD GAME        30.00   \n",
       "1       536373     82494L         WOODEN FRAME ANTIQUE WHITE        15.30   \n",
       "2       536378      21929      JUMBO BAG PINK VINTAGE PAISLEY       19.50   \n",
       "3       536381     37444A     YELLOW BREAKFAST CUP AND SAUCER        2.95   \n",
       "4       536381    15056BL             EDWARDIAN PARASOL BLACK       11.90   \n",
       "...        ...        ...                                 ...         ...   \n",
       "405058  581580      22698      PINK REGENCY TEACUP AND SAUCER        2.95   \n",
       "405059  581584      20832    RED FLOCK LOVE HEART PHOTO FRAME       51.84   \n",
       "405060  581585      22178     VICTORIAN GLASS HANGING T-LIGHT       23.40   \n",
       "405061  581585      84692         BOX OF 24 COCKTAIL PARASOLS       10.50   \n",
       "405062  581586      23275    SET OF 3 HANGING OWLS OLLIE BEAK       30.00   \n",
       "\n",
       "               invoice_date  price  quantity customer_id         country  \n",
       "0       2010-12-01 08:45:00   1.25        24      u12583          France  \n",
       "1       2010-12-01 09:02:00   2.55         6       u1785  United Kingdom  \n",
       "2       2010-12-01 09:37:00   1.95        10      u14688  United Kingdom  \n",
       "3       2010-12-01 09:41:00   2.95         1      u15311  United Kingdom  \n",
       "4       2010-12-01 09:41:00   5.95         2      u15311  United Kingdom  \n",
       "...                     ...    ...       ...         ...             ...  \n",
       "405058  2011-12-09 12:20:00   2.95         1      u12748  United Kingdom  \n",
       "405059  2011-12-09 12:25:00   0.72        72      u13777  United Kingdom  \n",
       "405060  2011-12-09 12:31:00   1.95        12      u15804  United Kingdom  \n",
       "405061  2011-12-09 12:31:00   0.42        25      u15804  United Kingdom  \n",
       "405062  2011-12-09 12:49:00   1.25        24      u13113  United Kingdom  \n",
       "\n",
       "[405063 rows x 9 columns]"
      ]
     },
     "execution_count": 13,
     "metadata": {},
     "output_type": "execute_result"
    }
   ],
   "source": [
    "ot_clean"
   ]
  },
  {
   "cell_type": "code",
   "execution_count": 14,
   "id": "c374db70-4869-41cf-8554-ff841d0825f6",
   "metadata": {},
   "outputs": [
    {
     "data": {
      "text/html": [
       "<div>\n",
       "<style scoped>\n",
       "    .dataframe tbody tr th:only-of-type {\n",
       "        vertical-align: middle;\n",
       "    }\n",
       "\n",
       "    .dataframe tbody tr th {\n",
       "        vertical-align: top;\n",
       "    }\n",
       "\n",
       "    .dataframe thead th {\n",
       "        text-align: right;\n",
       "    }\n",
       "</style>\n",
       "<table border=\"1\" class=\"dataframe\">\n",
       "  <thead>\n",
       "    <tr style=\"text-align: right;\">\n",
       "      <th></th>\n",
       "      <th>invoice</th>\n",
       "      <th>stock_code</th>\n",
       "      <th>description</th>\n",
       "      <th>total_cost</th>\n",
       "      <th>invoice_date</th>\n",
       "      <th>price</th>\n",
       "      <th>quantity</th>\n",
       "      <th>customer_id</th>\n",
       "      <th>country</th>\n",
       "    </tr>\n",
       "  </thead>\n",
       "  <tbody>\n",
       "    <tr>\n",
       "      <th>column type</th>\n",
       "      <td>object</td>\n",
       "      <td>object</td>\n",
       "      <td>object</td>\n",
       "      <td>float64</td>\n",
       "      <td>object</td>\n",
       "      <td>float64</td>\n",
       "      <td>int64</td>\n",
       "      <td>object</td>\n",
       "      <td>object</td>\n",
       "    </tr>\n",
       "    <tr>\n",
       "      <th>null values (nb)</th>\n",
       "      <td>0</td>\n",
       "      <td>0</td>\n",
       "      <td>0</td>\n",
       "      <td>0</td>\n",
       "      <td>0</td>\n",
       "      <td>0</td>\n",
       "      <td>0</td>\n",
       "      <td>0</td>\n",
       "      <td>0</td>\n",
       "    </tr>\n",
       "    <tr>\n",
       "      <th>null values (%)</th>\n",
       "      <td>0.0</td>\n",
       "      <td>0.0</td>\n",
       "      <td>0.0</td>\n",
       "      <td>0.0</td>\n",
       "      <td>0.0</td>\n",
       "      <td>0.0</td>\n",
       "      <td>0.0</td>\n",
       "      <td>0.0</td>\n",
       "      <td>0.0</td>\n",
       "    </tr>\n",
       "  </tbody>\n",
       "</table>\n",
       "</div>"
      ],
      "text/plain": [
       "                 invoice stock_code description total_cost invoice_date  \\\n",
       "column type       object     object      object    float64       object   \n",
       "null values (nb)       0          0           0          0            0   \n",
       "null values (%)      0.0        0.0         0.0        0.0          0.0   \n",
       "\n",
       "                    price quantity customer_id country  \n",
       "column type       float64    int64      object  object  \n",
       "null values (nb)        0        0           0       0  \n",
       "null values (%)       0.0      0.0         0.0     0.0  "
      ]
     },
     "metadata": {},
     "output_type": "display_data"
    }
   ],
   "source": [
    "# the following code gives some info on columns types and numer of null values\n",
    "tab_info=pd.DataFrame(ot_clean.dtypes).T.rename(index={0:'column type'})\n",
    "tab_info=pd.concat([tab_info,pd.DataFrame(ot_clean.isnull().sum()).T.rename(index={0:'null values (nb)'})],ignore_index=False)\n",
    "tab_info=pd.concat([tab_info,pd.DataFrame(ot_clean.isnull().sum()/ot_clean.shape[0]*100).T.\n",
    "                         rename(index={0:'null values (%)'})],ignore_index=False)\n",
    "display(tab_info)"
   ]
  },
  {
   "cell_type": "markdown",
   "id": "fd03d01d-7ee8-4cc9-9b58-77a0aca65eeb",
   "metadata": {},
   "source": [
    "Hence, There are no Null values in the Dataframe,let's check with duplicate values, if any, delete them "
   ]
  },
  {
   "cell_type": "code",
   "execution_count": 15,
   "id": "2277de3b-4444-4aa3-b255-e048e7f545a3",
   "metadata": {},
   "outputs": [
    {
     "name": "stdout",
     "output_type": "stream",
     "text": [
      "no. of duplicates: 5222\n"
     ]
    }
   ],
   "source": [
    "#finding duplicates \n",
    "print('no. of duplicates:',ot_clean.duplicated().sum())"
   ]
  },
  {
   "cell_type": "code",
   "execution_count": 16,
   "id": "ccbffbef-0cf0-4021-bd0c-b547160a7405",
   "metadata": {},
   "outputs": [],
   "source": [
    "ot_clean.drop_duplicates(inplace = True)"
   ]
  },
  {
   "cell_type": "code",
   "execution_count": 17,
   "id": "08d0753c-0b64-49cd-8d35-ab7dd2142f69",
   "metadata": {},
   "outputs": [
    {
     "data": {
      "text/plain": [
       "(399841, 9)"
      ]
     },
     "execution_count": 17,
     "metadata": {},
     "output_type": "execute_result"
    }
   ],
   "source": [
    "ot_clean.shape"
   ]
  },
  {
   "cell_type": "markdown",
   "id": "793b92b1-e565-406a-97f2-0e5132ae2e75",
   "metadata": {},
   "source": [
    "## 2. Exploring the content of variables"
   ]
  },
  {
   "cell_type": "markdown",
   "id": "32c6d96c-8052-46a9-adf6-0d56eb3ecae2",
   "metadata": {},
   "source": [
    "This dataframe contains 8 variables that correspond to:\n",
    "\n",
    "Invoice: Invoice number. Nominal, a 6-digit integral number uniquely assigned to each transaction. If this code starts with letter 'c', it indicates a cancellation.\n",
    "\n",
    "Stock_code: Product (item) code. Nominal, a 5-digit integral number uniquely assigned to each distinct product.\n",
    "\n",
    "Description: Product (item) name. Nominal.\n",
    "\n",
    "Quantity: The quantities of each product (item) per transaction. Numeric.\n",
    "\n",
    "InvoiceDate: Invice Date and time. Numeric, the day and time when each transaction was generated.\n",
    "\n",
    "Price: Unit price. Numeric, Product price per unit .\n",
    "\n",
    "Customer_id: Customer number. Nominal, a 5-digit integral number uniquely assigned to each customer.\n",
    "\n",
    "Country: Country name. Nominal, the name of the country where each customer resides.\n"
   ]
  },
  {
   "cell_type": "markdown",
   "id": "4ae4be20-3b9a-418a-840d-ed9d841eea48",
   "metadata": {},
   "source": [
    "###  2.1 Countries :\n",
    "\n",
    " Here, we  quickly look at the countries from which orders were made:"
   ]
  },
  {
   "cell_type": "code",
   "execution_count": 18,
   "id": "5b656d11-94b2-4c09-8e5c-3265cf7b2c36",
   "metadata": {},
   "outputs": [
    {
     "name": "stdout",
     "output_type": "stream",
     "text": [
      "No. of countries: 37\n"
     ]
    }
   ],
   "source": [
    "# Grouping by customer_id, invoice, and country\n",
    "temp = ot_clean[['customer_id', 'invoice', 'country']].groupby(['customer_id', 'invoice', 'country']).count()\n",
    "\n",
    "# Reset the index to make 'country' a regular column again\n",
    "temp = temp.reset_index(drop=False)\n",
    "\n",
    "# Check if 'country' exists in the columns and count the number of unique countries\n",
    "if 'country' in temp.columns:\n",
    "    countries = temp['country'].value_counts()\n",
    "    print('No. of countries: {}'.format(len(countries)))\n",
    "else:\n",
    "    print(\"The 'country' column is not present in the DataFrame.\")\n"
   ]
  },
  {
   "cell_type": "code",
   "execution_count": 19,
   "id": "f91695c8-fedd-49f7-bf56-1b5985eb3a09",
   "metadata": {},
   "outputs": [],
   "source": [
    "# which country has high sales (Top 10)\n",
    "query = \"\"\"select country,\n",
    "                  sum(quantity) as product_sold\n",
    "           from online_transactions_cleaned \n",
    "           group by country \n",
    "           order by product_sold desc\n",
    "           limit 10 \"\"\""
   ]
  },
  {
   "cell_type": "code",
   "execution_count": 20,
   "id": "4d3eccb7-2ba5-4a38-8710-76e0d4335de7",
   "metadata": {},
   "outputs": [],
   "source": [
    "top10_countries=pd.read_sql(query,conn)"
   ]
  },
  {
   "cell_type": "code",
   "execution_count": 21,
   "id": "07619705-917e-47c5-a1de-52688e10861f",
   "metadata": {},
   "outputs": [
    {
     "data": {
      "text/html": [
       "<div>\n",
       "<style scoped>\n",
       "    .dataframe tbody tr th:only-of-type {\n",
       "        vertical-align: middle;\n",
       "    }\n",
       "\n",
       "    .dataframe tbody tr th {\n",
       "        vertical-align: top;\n",
       "    }\n",
       "\n",
       "    .dataframe thead th {\n",
       "        text-align: right;\n",
       "    }\n",
       "</style>\n",
       "<table border=\"1\" class=\"dataframe\">\n",
       "  <thead>\n",
       "    <tr style=\"text-align: right;\">\n",
       "      <th></th>\n",
       "      <th>country</th>\n",
       "      <th>product_sold</th>\n",
       "    </tr>\n",
       "  </thead>\n",
       "  <tbody>\n",
       "    <tr>\n",
       "      <th>0</th>\n",
       "      <td>United Kingdom</td>\n",
       "      <td>3992342</td>\n",
       "    </tr>\n",
       "    <tr>\n",
       "      <th>1</th>\n",
       "      <td>Netherlands</td>\n",
       "      <td>200510</td>\n",
       "    </tr>\n",
       "    <tr>\n",
       "      <th>2</th>\n",
       "      <td>EIRE</td>\n",
       "      <td>136189</td>\n",
       "    </tr>\n",
       "    <tr>\n",
       "      <th>3</th>\n",
       "      <td>Germany</td>\n",
       "      <td>116235</td>\n",
       "    </tr>\n",
       "    <tr>\n",
       "      <th>4</th>\n",
       "      <td>France</td>\n",
       "      <td>109019</td>\n",
       "    </tr>\n",
       "    <tr>\n",
       "      <th>5</th>\n",
       "      <td>Australia</td>\n",
       "      <td>83643</td>\n",
       "    </tr>\n",
       "    <tr>\n",
       "      <th>6</th>\n",
       "      <td>Sweden</td>\n",
       "      <td>35594</td>\n",
       "    </tr>\n",
       "    <tr>\n",
       "      <th>7</th>\n",
       "      <td>Switzerland</td>\n",
       "      <td>29681</td>\n",
       "    </tr>\n",
       "    <tr>\n",
       "      <th>8</th>\n",
       "      <td>Spain</td>\n",
       "      <td>26611</td>\n",
       "    </tr>\n",
       "    <tr>\n",
       "      <th>9</th>\n",
       "      <td>Japan</td>\n",
       "      <td>25221</td>\n",
       "    </tr>\n",
       "  </tbody>\n",
       "</table>\n",
       "</div>"
      ],
      "text/plain": [
       "          country  product_sold\n",
       "0  United Kingdom       3992342\n",
       "1     Netherlands        200510\n",
       "2            EIRE        136189\n",
       "3         Germany        116235\n",
       "4          France        109019\n",
       "5       Australia         83643\n",
       "6          Sweden         35594\n",
       "7     Switzerland         29681\n",
       "8           Spain         26611\n",
       "9           Japan         25221"
      ]
     },
     "execution_count": 21,
     "metadata": {},
     "output_type": "execute_result"
    }
   ],
   "source": [
    "top10_countries"
   ]
  },
  {
   "cell_type": "markdown",
   "id": "11f1ed42-1b01-4efb-b493-4ae28be2ef71",
   "metadata": {},
   "source": [
    "We see that the dataset is largely dominated by orders made from the UK"
   ]
  },
  {
   "cell_type": "markdown",
   "id": "4c624f55-3525-4eb7-af23-5b57af699453",
   "metadata": {},
   "source": [
    "### 2.2 Customers and products"
   ]
  },
  {
   "cell_type": "markdown",
   "id": "80c3d8e1-4e39-49dd-840d-a18a38c2dd96",
   "metadata": {},
   "source": [
    "The dataframe contains  almost 400,000 entries.\n",
    "What are the number of users and products in these entries ?"
   ]
  },
  {
   "cell_type": "code",
   "execution_count": 22,
   "id": "0ca0633c-a49a-422f-95c7-bb9e5d2c7f42",
   "metadata": {},
   "outputs": [
    {
     "data": {
      "text/html": [
       "<div>\n",
       "<style scoped>\n",
       "    .dataframe tbody tr th:only-of-type {\n",
       "        vertical-align: middle;\n",
       "    }\n",
       "\n",
       "    .dataframe tbody tr th {\n",
       "        vertical-align: top;\n",
       "    }\n",
       "\n",
       "    .dataframe thead th {\n",
       "        text-align: right;\n",
       "    }\n",
       "</style>\n",
       "<table border=\"1\" class=\"dataframe\">\n",
       "  <thead>\n",
       "    <tr style=\"text-align: right;\">\n",
       "      <th></th>\n",
       "      <th>Products</th>\n",
       "      <th>transactions</th>\n",
       "      <th>customers</th>\n",
       "    </tr>\n",
       "  </thead>\n",
       "  <tbody>\n",
       "    <tr>\n",
       "      <th>quantity</th>\n",
       "      <td>3679</td>\n",
       "      <td>21791</td>\n",
       "      <td>4363</td>\n",
       "    </tr>\n",
       "  </tbody>\n",
       "</table>\n",
       "</div>"
      ],
      "text/plain": [
       "          Products  transactions  customers\n",
       "quantity      3679         21791       4363"
      ]
     },
     "execution_count": 22,
     "metadata": {},
     "output_type": "execute_result"
    }
   ],
   "source": [
    "pd.DataFrame([{'Products':len(ot_clean['stock_code'].value_counts()),\n",
    "               'transactions':len(ot_clean['invoice'].value_counts()),\n",
    "               'customers':len(ot_clean['customer_id'].value_counts())}],index=['quantity'])"
   ]
  },
  {
   "cell_type": "markdown",
   "id": "e02e648d-c926-4a61-bcec-f985bfc0ea4f",
   "metadata": {},
   "source": [
    "It can be seen that the data concern 4363 users and that they bought 3679 different products. The total number of transactions carried out is of the order of  21791.\n",
    "\n",
    "Now I will determine the number of products purchased in every transaction:"
   ]
  },
  {
   "cell_type": "code",
   "execution_count": 23,
   "id": "46d09ec8-9618-4abe-9ac1-d098278bd297",
   "metadata": {},
   "outputs": [
    {
     "data": {
      "text/html": [
       "<div>\n",
       "<style scoped>\n",
       "    .dataframe tbody tr th:only-of-type {\n",
       "        vertical-align: middle;\n",
       "    }\n",
       "\n",
       "    .dataframe tbody tr th {\n",
       "        vertical-align: top;\n",
       "    }\n",
       "\n",
       "    .dataframe thead th {\n",
       "        text-align: right;\n",
       "    }\n",
       "</style>\n",
       "<table border=\"1\" class=\"dataframe\">\n",
       "  <thead>\n",
       "    <tr style=\"text-align: right;\">\n",
       "      <th></th>\n",
       "      <th>customer_id</th>\n",
       "      <th>invoice</th>\n",
       "      <th>Number of products</th>\n",
       "    </tr>\n",
       "  </thead>\n",
       "  <tbody>\n",
       "    <tr>\n",
       "      <th>0</th>\n",
       "      <td>u12346</td>\n",
       "      <td>541431</td>\n",
       "      <td>1</td>\n",
       "    </tr>\n",
       "    <tr>\n",
       "      <th>1</th>\n",
       "      <td>u12346</td>\n",
       "      <td>C541433</td>\n",
       "      <td>1</td>\n",
       "    </tr>\n",
       "    <tr>\n",
       "      <th>2</th>\n",
       "      <td>u12347</td>\n",
       "      <td>537626</td>\n",
       "      <td>31</td>\n",
       "    </tr>\n",
       "    <tr>\n",
       "      <th>3</th>\n",
       "      <td>u12347</td>\n",
       "      <td>542237</td>\n",
       "      <td>29</td>\n",
       "    </tr>\n",
       "    <tr>\n",
       "      <th>4</th>\n",
       "      <td>u12347</td>\n",
       "      <td>549222</td>\n",
       "      <td>24</td>\n",
       "    </tr>\n",
       "    <tr>\n",
       "      <th>5</th>\n",
       "      <td>u12347</td>\n",
       "      <td>556201</td>\n",
       "      <td>18</td>\n",
       "    </tr>\n",
       "    <tr>\n",
       "      <th>6</th>\n",
       "      <td>u12347</td>\n",
       "      <td>562032</td>\n",
       "      <td>22</td>\n",
       "    </tr>\n",
       "    <tr>\n",
       "      <th>7</th>\n",
       "      <td>u12347</td>\n",
       "      <td>573511</td>\n",
       "      <td>47</td>\n",
       "    </tr>\n",
       "    <tr>\n",
       "      <th>8</th>\n",
       "      <td>u12347</td>\n",
       "      <td>581180</td>\n",
       "      <td>11</td>\n",
       "    </tr>\n",
       "    <tr>\n",
       "      <th>9</th>\n",
       "      <td>u12348</td>\n",
       "      <td>539318</td>\n",
       "      <td>16</td>\n",
       "    </tr>\n",
       "  </tbody>\n",
       "</table>\n",
       "</div>"
      ],
      "text/plain": [
       "  customer_id  invoice  Number of products\n",
       "0      u12346   541431                   1\n",
       "1      u12346  C541433                   1\n",
       "2      u12347   537626                  31\n",
       "3      u12347   542237                  29\n",
       "4      u12347   549222                  24\n",
       "5      u12347   556201                  18\n",
       "6      u12347   562032                  22\n",
       "7      u12347   573511                  47\n",
       "8      u12347   581180                  11\n",
       "9      u12348   539318                  16"
      ]
     },
     "execution_count": 23,
     "metadata": {},
     "output_type": "execute_result"
    }
   ],
   "source": [
    "temp = ot_clean.groupby(by=['customer_id', 'invoice'], as_index=False)['invoice_date'].count()\n",
    "nb_products_per_basket = temp.rename(columns = {'invoice_date':'Number of products'})\n",
    "nb_products_per_basket[:10].sort_values('customer_id')"
   ]
  },
  {
   "cell_type": "markdown",
   "id": "0a626c13-c604-4e4a-8348-808e9ebf37c5",
   "metadata": {},
   "source": [
    "The first lines of this list shows several things worthy of interest:\n",
    "\n",
    "the existence of entries with the prefix C for the InvoiceNo variable: this indicates transactions that have been canceled\n",
    "the existence of users who only came once and only purchased one product (e.g. 12346)\n",
    "the existence of frequent users that buy a large number of items at each order"
   ]
  },
  {
   "cell_type": "markdown",
   "id": "1de5e0f0-baad-49c1-a6bf-96ae589b8bf3",
   "metadata": {},
   "source": [
    "### 2.3 Handling Returns "
   ]
  },
  {
   "cell_type": "code",
   "execution_count": 24,
   "id": "f58ed1fd-e45a-4859-957d-66f1026a61c2",
   "metadata": {},
   "outputs": [],
   "source": [
    "# let's copy the data into a new dataframe.\n",
    "new_df = ot_clean.copy()"
   ]
  },
  {
   "cell_type": "code",
   "execution_count": 25,
   "id": "16d55782-6a48-47af-abbc-c11762749e6c",
   "metadata": {},
   "outputs": [
    {
     "data": {
      "text/plain": [
       "(399841, 9)"
      ]
     },
     "execution_count": 25,
     "metadata": {},
     "output_type": "execute_result"
    }
   ],
   "source": [
    "new_df.shape"
   ]
  },
  {
   "cell_type": "markdown",
   "id": "ceff5337-587e-46a2-9407-c35a44587837",
   "metadata": {},
   "source": [
    "Let's locate the entries that indicate a negative quantity using the column  'is_return'\n"
   ]
  },
  {
   "cell_type": "code",
   "execution_count": 26,
   "id": "96ffb3e7-05d7-42e2-896a-d74e50735dee",
   "metadata": {},
   "outputs": [],
   "source": [
    "new_df['is_return'] = new_df['quantity']<0"
   ]
  },
  {
   "cell_type": "code",
   "execution_count": 27,
   "id": "ff442f1f-eb8f-4224-8192-49d42de9e0e8",
   "metadata": {},
   "outputs": [],
   "source": [
    "# Reverse the effect of returns (if necessary)\n",
    "new_df['net_quantity']=new_df['quantity'].abs()\n",
    "new_df['net_revenue'] = new_df['price'].abs()"
   ]
  },
  {
   "cell_type": "code",
   "execution_count": 28,
   "id": "f8c205a3-4fb3-45b8-b624-fbade1adc61c",
   "metadata": {},
   "outputs": [],
   "source": [
    "# Summarize data\n",
    "total_quantity_sold = new_df[new_df['is_return'] == False]['net_quantity'].sum()\n",
    "total_returns = new_df[new_df['is_return'] == True]['net_quantity'].sum()\n",
    "net_revenue = new_df['net_revenue'].sum()"
   ]
  },
  {
   "cell_type": "code",
   "execution_count": 29,
   "id": "58b84b43-a283-49af-8c27-7778c57227de",
   "metadata": {},
   "outputs": [
    {
     "name": "stdout",
     "output_type": "stream",
     "text": [
      "Total quantity sold: 5155512\n",
      "Total returns: 267712\n",
      "Net revenue: $1180696.273\n"
     ]
    }
   ],
   "source": [
    "# Reporting\n",
    "print(f\"Total quantity sold: {total_quantity_sold}\")\n",
    "print(f\"Total returns: {total_returns}\")\n",
    "print(f\"Net revenue: ${net_revenue}\")"
   ]
  },
  {
   "cell_type": "code",
   "execution_count": 30,
   "id": "43ead000-3620-4a32-8a98-2118aea87ca9",
   "metadata": {},
   "outputs": [
    {
     "data": {
      "image/png": "[encoded data removed]",
      "text/plain": [
       "<Figure size 640x480 with 1 Axes>"
      ]
     },
     "metadata": {},
     "output_type": "display_data"
    }
   ],
   "source": [
    "# Return rates over time (assuming we have a date field)\n",
    "new_df['invoice_date'] = pd.to_datetime(new_df['invoice_date'])\n",
    "new_df.groupby(new_df['invoice_date'].dt.to_period('M'))['is_return'].mean().plot(kind='bar')\n",
    "plt.title('Return Rate Over Time')\n",
    "plt.show()"
   ]
  },
  {
   "cell_type": "markdown",
   "id": "74b864c6-3b32-422a-8b95-caec518123ce",
   "metadata": {},
   "source": [
    " Data Integration, involves merging return transactions with the original sales data to ensure that the analysis accurately reflects the impact of returns. This is especially important if you need to match specific returns to their corresponding sales transactions.\n",
    "\n",
    "Purpose of Data Integration The goal is to link each return transaction with its original sales transaction to:\n",
    "\n",
    "Correctly attribute returns to the correct sale.\n",
    "Analyze the impact of returns on the original sales.\n",
    "Ensure accurate calculation of metrics like net sales, customer behavior, and product performance."
   ]
  },
  {
   "cell_type": "code",
   "execution_count": 31,
   "id": "f8a3d9ac-07ec-47e7-9e34-9394b929dfaa",
   "metadata": {},
   "outputs": [],
   "source": [
    "sales_df = new_df[new_df['quantity']>0]\n",
    "return_df= new_df[new_df['quantity']<0]"
   ]
  },
  {
   "cell_type": "code",
   "execution_count": 32,
   "id": "e7ed4d3c-128f-4cf8-9059-19faa9a69443",
   "metadata": {},
   "outputs": [
    {
     "data": {
      "text/plain": [
       "391334"
      ]
     },
     "execution_count": 32,
     "metadata": {},
     "output_type": "execute_result"
    }
   ],
   "source": [
    "sales_df.shape[0]"
   ]
  },
  {
   "cell_type": "code",
   "execution_count": 33,
   "id": "05521634-0d84-455d-aead-d329d642714b",
   "metadata": {},
   "outputs": [
    {
     "data": {
      "text/plain": [
       "8507"
      ]
     },
     "execution_count": 33,
     "metadata": {},
     "output_type": "execute_result"
    }
   ],
   "source": [
    "return_df.shape[0]"
   ]
  },
  {
   "cell_type": "code",
   "execution_count": 34,
   "id": "35a96031-2d80-4b64-b4c6-916ffc06f2fe",
   "metadata": {},
   "outputs": [],
   "source": [
    "# Normalisation \n",
    "return_df['quantity'] = return_df['quantity'].abs()\n",
    "return_df['price'] = return_df['price'].abs()"
   ]
  },
  {
   "cell_type": "code",
   "execution_count": 35,
   "id": "883c27fc-0a30-4825-aa0b-5b93dc6fa8d4",
   "metadata": {},
   "outputs": [],
   "source": [
    "# match returns to sales \n",
    "merged_df = pd.merge(sales_df,return_df,on=['customer_id','stock_code'],how='left',suffixes=('_sale', '_return'))"
   ]
  },
  {
   "cell_type": "code",
   "execution_count": 36,
   "id": "2fb4c336-d2e8-466e-b8e7-9a87b6d13978",
   "metadata": {},
   "outputs": [
    {
     "data": {
      "text/plain": [
       "397115"
      ]
     },
     "execution_count": 36,
     "metadata": {},
     "output_type": "execute_result"
    }
   ],
   "source": [
    "merged_df.shape[0]"
   ]
  },
  {
   "cell_type": "code",
   "execution_count": 37,
   "id": "eeb7ffc0-c709-4069-a3e9-db18b8fb070f",
   "metadata": {},
   "outputs": [],
   "source": [
    "# Handle multiple returns \n",
    "returns_grouped_df = return_df.groupby(['customer_id','stock_code']).agg({\n",
    "    'quantity': 'sum',\n",
    "    'price': 'sum'\n",
    "}).reset_index()\n",
    "merged_df = pd.merge(sales_df, returns_grouped_df, on=['customer_id','stock_code'], how='left', suffixes=('_sale', '_return'))"
   ]
  },
  {
   "cell_type": "code",
   "execution_count": 38,
   "id": "71c95b56-c633-4ad2-ba83-ba4720699398",
   "metadata": {},
   "outputs": [
    {
     "data": {
      "text/html": [
       "<div>\n",
       "<style scoped>\n",
       "    .dataframe tbody tr th:only-of-type {\n",
       "        vertical-align: middle;\n",
       "    }\n",
       "\n",
       "    .dataframe tbody tr th {\n",
       "        vertical-align: top;\n",
       "    }\n",
       "\n",
       "    .dataframe thead th {\n",
       "        text-align: right;\n",
       "    }\n",
       "</style>\n",
       "<table border=\"1\" class=\"dataframe\">\n",
       "  <thead>\n",
       "    <tr style=\"text-align: right;\">\n",
       "      <th></th>\n",
       "      <th>customer_id</th>\n",
       "      <th>stock_code</th>\n",
       "      <th>quantity</th>\n",
       "      <th>price</th>\n",
       "    </tr>\n",
       "  </thead>\n",
       "  <tbody>\n",
       "    <tr>\n",
       "      <th>0</th>\n",
       "      <td>u12346</td>\n",
       "      <td>23166</td>\n",
       "      <td>74215</td>\n",
       "      <td>1.04</td>\n",
       "    </tr>\n",
       "    <tr>\n",
       "      <th>1</th>\n",
       "      <td>u12352</td>\n",
       "      <td>21914</td>\n",
       "      <td>12</td>\n",
       "      <td>1.25</td>\n",
       "    </tr>\n",
       "    <tr>\n",
       "      <th>2</th>\n",
       "      <td>u12352</td>\n",
       "      <td>22413</td>\n",
       "      <td>6</td>\n",
       "      <td>2.95</td>\n",
       "    </tr>\n",
       "    <tr>\n",
       "      <th>3</th>\n",
       "      <td>u12352</td>\n",
       "      <td>22645</td>\n",
       "      <td>12</td>\n",
       "      <td>1.45</td>\n",
       "    </tr>\n",
       "    <tr>\n",
       "      <th>4</th>\n",
       "      <td>u12352</td>\n",
       "      <td>22701</td>\n",
       "      <td>6</td>\n",
       "      <td>2.95</td>\n",
       "    </tr>\n",
       "    <tr>\n",
       "      <th>...</th>\n",
       "      <td>...</td>\n",
       "      <td>...</td>\n",
       "      <td>...</td>\n",
       "      <td>...</td>\n",
       "    </tr>\n",
       "    <tr>\n",
       "      <th>7565</th>\n",
       "      <td>u18274</td>\n",
       "      <td>84509A</td>\n",
       "      <td>4</td>\n",
       "      <td>3.75</td>\n",
       "    </tr>\n",
       "    <tr>\n",
       "      <th>7566</th>\n",
       "      <td>u18274</td>\n",
       "      <td>84988</td>\n",
       "      <td>12</td>\n",
       "      <td>1.45</td>\n",
       "    </tr>\n",
       "    <tr>\n",
       "      <th>7567</th>\n",
       "      <td>u18276</td>\n",
       "      <td>23401</td>\n",
       "      <td>2</td>\n",
       "      <td>12.50</td>\n",
       "    </tr>\n",
       "    <tr>\n",
       "      <th>7568</th>\n",
       "      <td>u18277</td>\n",
       "      <td>22423</td>\n",
       "      <td>1</td>\n",
       "      <td>12.75</td>\n",
       "    </tr>\n",
       "    <tr>\n",
       "      <th>7569</th>\n",
       "      <td>u18282</td>\n",
       "      <td>23187</td>\n",
       "      <td>5</td>\n",
       "      <td>0.29</td>\n",
       "    </tr>\n",
       "  </tbody>\n",
       "</table>\n",
       "<p>7570 rows × 4 columns</p>\n",
       "</div>"
      ],
      "text/plain": [
       "     customer_id stock_code  quantity  price\n",
       "0         u12346      23166     74215   1.04\n",
       "1         u12352      21914        12   1.25\n",
       "2         u12352      22413         6   2.95\n",
       "3         u12352      22645        12   1.45\n",
       "4         u12352      22701         6   2.95\n",
       "...          ...        ...       ...    ...\n",
       "7565      u18274     84509A         4   3.75\n",
       "7566      u18274      84988        12   1.45\n",
       "7567      u18276      23401         2  12.50\n",
       "7568      u18277      22423         1  12.75\n",
       "7569      u18282      23187         5   0.29\n",
       "\n",
       "[7570 rows x 4 columns]"
      ]
     },
     "execution_count": 38,
     "metadata": {},
     "output_type": "execute_result"
    }
   ],
   "source": [
    "returns_grouped_df"
   ]
  },
  {
   "cell_type": "code",
   "execution_count": 39,
   "id": "ece4cc08-1ab7-4224-a48b-a0ecf3e376d2",
   "metadata": {},
   "outputs": [
    {
     "data": {
      "text/plain": [
       "391334"
      ]
     },
     "execution_count": 39,
     "metadata": {},
     "output_type": "execute_result"
    }
   ],
   "source": [
    "merged_df.shape[0]"
   ]
  },
  {
   "cell_type": "code",
   "execution_count": 40,
   "id": "5d399670-cc2e-4470-a397-da9392f00df3",
   "metadata": {},
   "outputs": [],
   "source": [
    "# calculate net values \n",
    "merged_df['net_quantity'] = merged_df['quantity_sale'] - merged_df['quantity_return'].fillna(0)\n",
    "merged_df['net_revenue'] = merged_df['price_sale'] - merged_df['price_return'].fillna(0)"
   ]
  },
  {
   "cell_type": "code",
   "execution_count": 41,
   "id": "5d7128b5-d50d-4d08-b3fe-eb23d641d62b",
   "metadata": {},
   "outputs": [
    {
     "data": {
      "text/html": [
       "<div>\n",
       "<style scoped>\n",
       "    .dataframe tbody tr th:only-of-type {\n",
       "        vertical-align: middle;\n",
       "    }\n",
       "\n",
       "    .dataframe tbody tr th {\n",
       "        vertical-align: top;\n",
       "    }\n",
       "\n",
       "    .dataframe thead th {\n",
       "        text-align: right;\n",
       "    }\n",
       "</style>\n",
       "<table border=\"1\" class=\"dataframe\">\n",
       "  <thead>\n",
       "    <tr style=\"text-align: right;\">\n",
       "      <th></th>\n",
       "      <th>invoice</th>\n",
       "      <th>stock_code</th>\n",
       "      <th>description</th>\n",
       "      <th>total_cost</th>\n",
       "      <th>invoice_date</th>\n",
       "      <th>price_sale</th>\n",
       "      <th>quantity_sale</th>\n",
       "      <th>customer_id</th>\n",
       "      <th>country</th>\n",
       "      <th>is_return</th>\n",
       "      <th>net_quantity</th>\n",
       "      <th>net_revenue</th>\n",
       "      <th>quantity_return</th>\n",
       "      <th>price_return</th>\n",
       "    </tr>\n",
       "  </thead>\n",
       "  <tbody>\n",
       "    <tr>\n",
       "      <th>0</th>\n",
       "      <td>536370</td>\n",
       "      <td>21791</td>\n",
       "      <td>VINTAGE HEADS AND TAILS CARD GAME</td>\n",
       "      <td>30.00</td>\n",
       "      <td>2010-12-01 08:45:00</td>\n",
       "      <td>1.25</td>\n",
       "      <td>24</td>\n",
       "      <td>u12583</td>\n",
       "      <td>France</td>\n",
       "      <td>False</td>\n",
       "      <td>24.0</td>\n",
       "      <td>1.25</td>\n",
       "      <td>NaN</td>\n",
       "      <td>NaN</td>\n",
       "    </tr>\n",
       "    <tr>\n",
       "      <th>1</th>\n",
       "      <td>536373</td>\n",
       "      <td>82494L</td>\n",
       "      <td>WOODEN FRAME ANTIQUE WHITE</td>\n",
       "      <td>15.30</td>\n",
       "      <td>2010-12-01 09:02:00</td>\n",
       "      <td>2.55</td>\n",
       "      <td>6</td>\n",
       "      <td>u1785</td>\n",
       "      <td>United Kingdom</td>\n",
       "      <td>False</td>\n",
       "      <td>-8.0</td>\n",
       "      <td>-2.55</td>\n",
       "      <td>14.0</td>\n",
       "      <td>5.1</td>\n",
       "    </tr>\n",
       "    <tr>\n",
       "      <th>2</th>\n",
       "      <td>536378</td>\n",
       "      <td>21929</td>\n",
       "      <td>JUMBO BAG PINK VINTAGE PAISLEY</td>\n",
       "      <td>19.50</td>\n",
       "      <td>2010-12-01 09:37:00</td>\n",
       "      <td>1.95</td>\n",
       "      <td>10</td>\n",
       "      <td>u14688</td>\n",
       "      <td>United Kingdom</td>\n",
       "      <td>False</td>\n",
       "      <td>10.0</td>\n",
       "      <td>1.95</td>\n",
       "      <td>NaN</td>\n",
       "      <td>NaN</td>\n",
       "    </tr>\n",
       "    <tr>\n",
       "      <th>3</th>\n",
       "      <td>536381</td>\n",
       "      <td>37444A</td>\n",
       "      <td>YELLOW BREAKFAST CUP AND SAUCER</td>\n",
       "      <td>2.95</td>\n",
       "      <td>2010-12-01 09:41:00</td>\n",
       "      <td>2.95</td>\n",
       "      <td>1</td>\n",
       "      <td>u15311</td>\n",
       "      <td>United Kingdom</td>\n",
       "      <td>False</td>\n",
       "      <td>1.0</td>\n",
       "      <td>2.95</td>\n",
       "      <td>NaN</td>\n",
       "      <td>NaN</td>\n",
       "    </tr>\n",
       "    <tr>\n",
       "      <th>4</th>\n",
       "      <td>536381</td>\n",
       "      <td>15056BL</td>\n",
       "      <td>EDWARDIAN PARASOL BLACK</td>\n",
       "      <td>11.90</td>\n",
       "      <td>2010-12-01 09:41:00</td>\n",
       "      <td>5.95</td>\n",
       "      <td>2</td>\n",
       "      <td>u15311</td>\n",
       "      <td>United Kingdom</td>\n",
       "      <td>False</td>\n",
       "      <td>2.0</td>\n",
       "      <td>5.95</td>\n",
       "      <td>NaN</td>\n",
       "      <td>NaN</td>\n",
       "    </tr>\n",
       "  </tbody>\n",
       "</table>\n",
       "</div>"
      ],
      "text/plain": [
       "  invoice stock_code                         description  total_cost  \\\n",
       "0  536370      21791  VINTAGE HEADS AND TAILS CARD GAME        30.00   \n",
       "1  536373     82494L         WOODEN FRAME ANTIQUE WHITE        15.30   \n",
       "2  536378      21929      JUMBO BAG PINK VINTAGE PAISLEY       19.50   \n",
       "3  536381     37444A     YELLOW BREAKFAST CUP AND SAUCER        2.95   \n",
       "4  536381    15056BL             EDWARDIAN PARASOL BLACK       11.90   \n",
       "\n",
       "         invoice_date  price_sale  quantity_sale customer_id         country  \\\n",
       "0 2010-12-01 08:45:00        1.25             24      u12583          France   \n",
       "1 2010-12-01 09:02:00        2.55              6       u1785  United Kingdom   \n",
       "2 2010-12-01 09:37:00        1.95             10      u14688  United Kingdom   \n",
       "3 2010-12-01 09:41:00        2.95              1      u15311  United Kingdom   \n",
       "4 2010-12-01 09:41:00        5.95              2      u15311  United Kingdom   \n",
       "\n",
       "   is_return  net_quantity  net_revenue  quantity_return  price_return  \n",
       "0      False          24.0         1.25              NaN           NaN  \n",
       "1      False          -8.0        -2.55             14.0           5.1  \n",
       "2      False          10.0         1.95              NaN           NaN  \n",
       "3      False           1.0         2.95              NaN           NaN  \n",
       "4      False           2.0         5.95              NaN           NaN  "
      ]
     },
     "execution_count": 41,
     "metadata": {},
     "output_type": "execute_result"
    }
   ],
   "source": [
    "merged_df.head()"
   ]
  },
  {
   "cell_type": "code",
   "execution_count": 42,
   "id": "225605b5-52a2-4aad-aafb-0b44bffdd312",
   "metadata": {},
   "outputs": [],
   "source": [
    "total_quantities_sold= merged_df['net_quantity'].sum()\n",
    "total_revenue_generated=merged_df['net_revenue'].sum()"
   ]
  },
  {
   "cell_type": "code",
   "execution_count": 43,
   "id": "bb05bf73-3870-45e2-b83d-70b65cbc8b5a",
   "metadata": {},
   "outputs": [
    {
     "name": "stdout",
     "output_type": "stream",
     "text": [
      "total quantities sold : 4695885.0\n",
      "total revenue generated:$1044137.043\n"
     ]
    }
   ],
   "source": [
    "print(f\"total quantities sold : {total_quantities_sold}\")\n",
    "print(f\"total revenue generated:${total_revenue_generated}\")"
   ]
  },
  {
   "cell_type": "code",
   "execution_count": 44,
   "id": "a2f90131-cc8f-4de7-8de5-657084a62760",
   "metadata": {},
   "outputs": [],
   "source": [
    "# Returns over product \n",
    "sales_count=sales_df.groupby('stock_code').size()\n",
    "return_count=return_df.groupby('stock_code').size()\n",
    "return_rate = (return_count / sales_count).fillna(0)"
   ]
  },
  {
   "cell_type": "code",
   "execution_count": 45,
   "id": "d2feef99-eb00-432f-8258-f908ac3236a1",
   "metadata": {},
   "outputs": [
    {
     "name": "stdout",
     "output_type": "stream",
     "text": [
      "stock_code\n",
      "10002     0.000000\n",
      "10080     0.000000\n",
      "10120     0.000000\n",
      "10123C    0.000000\n",
      "10124A    0.000000\n",
      "            ...   \n",
      "90214Y    0.000000\n",
      "90214Z    0.000000\n",
      "C2        0.007519\n",
      "DOT       0.000000\n",
      "PADS      0.000000\n",
      "Length: 3679, dtype: float64\n"
     ]
    }
   ],
   "source": [
    "print(return_rate)"
   ]
  },
  {
   "cell_type": "code",
   "execution_count": 46,
   "id": "7d5a3372-ac67-4fe6-a428-668b7dbb99a3",
   "metadata": {},
   "outputs": [],
   "source": [
    "data=merged_df.drop(['is_return','quantity_return','price_return','price_sale','quantity_sale','total_cost'],axis=1)"
   ]
  },
  {
   "cell_type": "code",
   "execution_count": 47,
   "id": "d79dddf6-7e9d-472d-bcdf-39fa76186ef7",
   "metadata": {},
   "outputs": [],
   "source": [
    "data.rename(columns={'net_revenue': 'price_per_unit'}, inplace=True)"
   ]
  },
  {
   "cell_type": "code",
   "execution_count": 48,
   "id": "6ef78b7b-4f19-4f2a-a3fa-17cd5f14ebfe",
   "metadata": {},
   "outputs": [],
   "source": [
    "data['net_quantity'] = data['net_quantity'].abs()\n",
    "data['price_per_unit'] = data['price_per_unit'].abs()"
   ]
  },
  {
   "cell_type": "code",
   "execution_count": 49,
   "id": "6b72ef7a-c9c9-442a-83f0-0a345d76578a",
   "metadata": {},
   "outputs": [
    {
     "data": {
      "text/html": [
       "<div>\n",
       "<style scoped>\n",
       "    .dataframe tbody tr th:only-of-type {\n",
       "        vertical-align: middle;\n",
       "    }\n",
       "\n",
       "    .dataframe tbody tr th {\n",
       "        vertical-align: top;\n",
       "    }\n",
       "\n",
       "    .dataframe thead th {\n",
       "        text-align: right;\n",
       "    }\n",
       "</style>\n",
       "<table border=\"1\" class=\"dataframe\">\n",
       "  <thead>\n",
       "    <tr style=\"text-align: right;\">\n",
       "      <th></th>\n",
       "      <th>invoice</th>\n",
       "      <th>stock_code</th>\n",
       "      <th>description</th>\n",
       "      <th>invoice_date</th>\n",
       "      <th>customer_id</th>\n",
       "      <th>country</th>\n",
       "      <th>net_quantity</th>\n",
       "      <th>price_per_unit</th>\n",
       "    </tr>\n",
       "  </thead>\n",
       "  <tbody>\n",
       "    <tr>\n",
       "      <th>0</th>\n",
       "      <td>536370</td>\n",
       "      <td>21791</td>\n",
       "      <td>VINTAGE HEADS AND TAILS CARD GAME</td>\n",
       "      <td>2010-12-01 08:45:00</td>\n",
       "      <td>u12583</td>\n",
       "      <td>France</td>\n",
       "      <td>24.0</td>\n",
       "      <td>1.25</td>\n",
       "    </tr>\n",
       "    <tr>\n",
       "      <th>1</th>\n",
       "      <td>536373</td>\n",
       "      <td>82494L</td>\n",
       "      <td>WOODEN FRAME ANTIQUE WHITE</td>\n",
       "      <td>2010-12-01 09:02:00</td>\n",
       "      <td>u1785</td>\n",
       "      <td>United Kingdom</td>\n",
       "      <td>8.0</td>\n",
       "      <td>2.55</td>\n",
       "    </tr>\n",
       "    <tr>\n",
       "      <th>2</th>\n",
       "      <td>536378</td>\n",
       "      <td>21929</td>\n",
       "      <td>JUMBO BAG PINK VINTAGE PAISLEY</td>\n",
       "      <td>2010-12-01 09:37:00</td>\n",
       "      <td>u14688</td>\n",
       "      <td>United Kingdom</td>\n",
       "      <td>10.0</td>\n",
       "      <td>1.95</td>\n",
       "    </tr>\n",
       "    <tr>\n",
       "      <th>3</th>\n",
       "      <td>536381</td>\n",
       "      <td>37444A</td>\n",
       "      <td>YELLOW BREAKFAST CUP AND SAUCER</td>\n",
       "      <td>2010-12-01 09:41:00</td>\n",
       "      <td>u15311</td>\n",
       "      <td>United Kingdom</td>\n",
       "      <td>1.0</td>\n",
       "      <td>2.95</td>\n",
       "    </tr>\n",
       "    <tr>\n",
       "      <th>4</th>\n",
       "      <td>536381</td>\n",
       "      <td>15056BL</td>\n",
       "      <td>EDWARDIAN PARASOL BLACK</td>\n",
       "      <td>2010-12-01 09:41:00</td>\n",
       "      <td>u15311</td>\n",
       "      <td>United Kingdom</td>\n",
       "      <td>2.0</td>\n",
       "      <td>5.95</td>\n",
       "    </tr>\n",
       "  </tbody>\n",
       "</table>\n",
       "</div>"
      ],
      "text/plain": [
       "  invoice stock_code                         description        invoice_date  \\\n",
       "0  536370      21791  VINTAGE HEADS AND TAILS CARD GAME  2010-12-01 08:45:00   \n",
       "1  536373     82494L         WOODEN FRAME ANTIQUE WHITE  2010-12-01 09:02:00   \n",
       "2  536378      21929      JUMBO BAG PINK VINTAGE PAISLEY 2010-12-01 09:37:00   \n",
       "3  536381     37444A     YELLOW BREAKFAST CUP AND SAUCER 2010-12-01 09:41:00   \n",
       "4  536381    15056BL             EDWARDIAN PARASOL BLACK 2010-12-01 09:41:00   \n",
       "\n",
       "  customer_id         country  net_quantity  price_per_unit  \n",
       "0      u12583          France          24.0            1.25  \n",
       "1       u1785  United Kingdom           8.0            2.55  \n",
       "2      u14688  United Kingdom          10.0            1.95  \n",
       "3      u15311  United Kingdom           1.0            2.95  \n",
       "4      u15311  United Kingdom           2.0            5.95  "
      ]
     },
     "execution_count": 49,
     "metadata": {},
     "output_type": "execute_result"
    }
   ],
   "source": [
    "data[:5]"
   ]
  },
  {
   "cell_type": "code",
   "execution_count": 62,
   "id": "bad55405-87fa-41cf-aaff-b8d2c51c18b7",
   "metadata": {},
   "outputs": [],
   "source": [
    "data['total_cost']=data['price_per_unit']*data['net_quantity']"
   ]
  },
  {
   "cell_type": "code",
   "execution_count": 63,
   "id": "9bf484fb-67cb-43b8-8ad8-1f1f60b3c115",
   "metadata": {},
   "outputs": [
    {
     "data": {
      "text/html": [
       "<div>\n",
       "<style scoped>\n",
       "    .dataframe tbody tr th:only-of-type {\n",
       "        vertical-align: middle;\n",
       "    }\n",
       "\n",
       "    .dataframe tbody tr th {\n",
       "        vertical-align: top;\n",
       "    }\n",
       "\n",
       "    .dataframe thead th {\n",
       "        text-align: right;\n",
       "    }\n",
       "</style>\n",
       "<table border=\"1\" class=\"dataframe\">\n",
       "  <thead>\n",
       "    <tr style=\"text-align: right;\">\n",
       "      <th></th>\n",
       "      <th>invoice</th>\n",
       "      <th>stock_code</th>\n",
       "      <th>description</th>\n",
       "      <th>invoice_date</th>\n",
       "      <th>customer_id</th>\n",
       "      <th>country</th>\n",
       "      <th>net_quantity</th>\n",
       "      <th>price_per_unit</th>\n",
       "      <th>total_cost</th>\n",
       "    </tr>\n",
       "  </thead>\n",
       "  <tbody>\n",
       "    <tr>\n",
       "      <th>0</th>\n",
       "      <td>536370</td>\n",
       "      <td>21791</td>\n",
       "      <td>VINTAGE HEADS AND TAILS CARD GAME</td>\n",
       "      <td>2010-12-01 08:45:00</td>\n",
       "      <td>u12583</td>\n",
       "      <td>France</td>\n",
       "      <td>24.0</td>\n",
       "      <td>1.25</td>\n",
       "      <td>30.00</td>\n",
       "    </tr>\n",
       "    <tr>\n",
       "      <th>1</th>\n",
       "      <td>536373</td>\n",
       "      <td>82494L</td>\n",
       "      <td>WOODEN FRAME ANTIQUE WHITE</td>\n",
       "      <td>2010-12-01 09:02:00</td>\n",
       "      <td>u1785</td>\n",
       "      <td>United Kingdom</td>\n",
       "      <td>8.0</td>\n",
       "      <td>2.55</td>\n",
       "      <td>20.40</td>\n",
       "    </tr>\n",
       "    <tr>\n",
       "      <th>2</th>\n",
       "      <td>536378</td>\n",
       "      <td>21929</td>\n",
       "      <td>JUMBO BAG PINK VINTAGE PAISLEY</td>\n",
       "      <td>2010-12-01 09:37:00</td>\n",
       "      <td>u14688</td>\n",
       "      <td>United Kingdom</td>\n",
       "      <td>10.0</td>\n",
       "      <td>1.95</td>\n",
       "      <td>19.50</td>\n",
       "    </tr>\n",
       "    <tr>\n",
       "      <th>3</th>\n",
       "      <td>536381</td>\n",
       "      <td>37444A</td>\n",
       "      <td>YELLOW BREAKFAST CUP AND SAUCER</td>\n",
       "      <td>2010-12-01 09:41:00</td>\n",
       "      <td>u15311</td>\n",
       "      <td>United Kingdom</td>\n",
       "      <td>1.0</td>\n",
       "      <td>2.95</td>\n",
       "      <td>2.95</td>\n",
       "    </tr>\n",
       "    <tr>\n",
       "      <th>4</th>\n",
       "      <td>536381</td>\n",
       "      <td>15056BL</td>\n",
       "      <td>EDWARDIAN PARASOL BLACK</td>\n",
       "      <td>2010-12-01 09:41:00</td>\n",
       "      <td>u15311</td>\n",
       "      <td>United Kingdom</td>\n",
       "      <td>2.0</td>\n",
       "      <td>5.95</td>\n",
       "      <td>11.90</td>\n",
       "    </tr>\n",
       "  </tbody>\n",
       "</table>\n",
       "</div>"
      ],
      "text/plain": [
       "  invoice stock_code                         description        invoice_date  \\\n",
       "0  536370      21791  VINTAGE HEADS AND TAILS CARD GAME  2010-12-01 08:45:00   \n",
       "1  536373     82494L         WOODEN FRAME ANTIQUE WHITE  2010-12-01 09:02:00   \n",
       "2  536378      21929      JUMBO BAG PINK VINTAGE PAISLEY 2010-12-01 09:37:00   \n",
       "3  536381     37444A     YELLOW BREAKFAST CUP AND SAUCER 2010-12-01 09:41:00   \n",
       "4  536381    15056BL             EDWARDIAN PARASOL BLACK 2010-12-01 09:41:00   \n",
       "\n",
       "  customer_id         country  net_quantity  price_per_unit  total_cost  \n",
       "0      u12583          France          24.0            1.25       30.00  \n",
       "1       u1785  United Kingdom           8.0            2.55       20.40  \n",
       "2      u14688  United Kingdom          10.0            1.95       19.50  \n",
       "3      u15311  United Kingdom           1.0            2.95        2.95  \n",
       "4      u15311  United Kingdom           2.0            5.95       11.90  "
      ]
     },
     "execution_count": 63,
     "metadata": {},
     "output_type": "execute_result"
    }
   ],
   "source": [
    "data[:5]"
   ]
  },
  {
   "cell_type": "markdown",
   "id": "e612b33b-1f90-4ca9-b721-a3d3c4dd635e",
   "metadata": {},
   "source": [
    "## 3.Insights On Market Analysis"
   ]
  },
  {
   "cell_type": "markdown",
   "id": "c04fb6c9-e733-4c84-950b-c7d32aaed70c",
   "metadata": {},
   "source": [
    "let's check the top 10 sold items and  does this differ across markets?"
   ]
  },
  {
   "cell_type": "code",
   "execution_count": 50,
   "id": "6b5f8064-43c5-4311-a311-91aaceb56f77",
   "metadata": {},
   "outputs": [],
   "source": [
    "# What is the most popular stock in UK? \n",
    "query = \"\"\" select stock_code,\n",
    "                   description,\n",
    "                   country,\n",
    "                   sum(quantity) as product_sold\n",
    "                   from online_transactions_cleaned\n",
    "                   where country='United Kingdom'\n",
    "                   group by stock_code\n",
    "                   order by product_sold desc\n",
    "                   limit 10\"\"\"    "
   ]
  },
  {
   "cell_type": "code",
   "execution_count": 51,
   "id": "34af4ff0-c5d2-4406-b279-1444a6b6dc40",
   "metadata": {},
   "outputs": [
    {
     "data": {
      "text/html": [
       "<div>\n",
       "<style scoped>\n",
       "    .dataframe tbody tr th:only-of-type {\n",
       "        vertical-align: middle;\n",
       "    }\n",
       "\n",
       "    .dataframe tbody tr th {\n",
       "        vertical-align: top;\n",
       "    }\n",
       "\n",
       "    .dataframe thead th {\n",
       "        text-align: right;\n",
       "    }\n",
       "</style>\n",
       "<table border=\"1\" class=\"dataframe\">\n",
       "  <thead>\n",
       "    <tr style=\"text-align: right;\">\n",
       "      <th></th>\n",
       "      <th>stock_code</th>\n",
       "      <th>description</th>\n",
       "      <th>country</th>\n",
       "      <th>product_sold</th>\n",
       "    </tr>\n",
       "  </thead>\n",
       "  <tbody>\n",
       "    <tr>\n",
       "      <th>0</th>\n",
       "      <td>84077</td>\n",
       "      <td>WORLD WAR 2 GLIDERS ASSTD DESIGNS</td>\n",
       "      <td>United Kingdom</td>\n",
       "      <td>47886</td>\n",
       "    </tr>\n",
       "    <tr>\n",
       "      <th>1</th>\n",
       "      <td>22197</td>\n",
       "      <td>POPCORN HOLDER</td>\n",
       "      <td>United Kingdom</td>\n",
       "      <td>45194</td>\n",
       "    </tr>\n",
       "    <tr>\n",
       "      <th>2</th>\n",
       "      <td>85099B</td>\n",
       "      <td>JUMBO BAG RED RETROSPOT</td>\n",
       "      <td>United Kingdom</td>\n",
       "      <td>40777</td>\n",
       "    </tr>\n",
       "    <tr>\n",
       "      <th>3</th>\n",
       "      <td>84879</td>\n",
       "      <td>ASSORTED COLOUR BIRD ORNAMENT</td>\n",
       "      <td>United Kingdom</td>\n",
       "      <td>32580</td>\n",
       "    </tr>\n",
       "    <tr>\n",
       "      <th>4</th>\n",
       "      <td>85123A</td>\n",
       "      <td>CREAM HANGING HEART T-LIGHT HOLDER</td>\n",
       "      <td>United Kingdom</td>\n",
       "      <td>32136</td>\n",
       "    </tr>\n",
       "    <tr>\n",
       "      <th>5</th>\n",
       "      <td>22616</td>\n",
       "      <td>PACK OF 12 LONDON TISSUES</td>\n",
       "      <td>United Kingdom</td>\n",
       "      <td>24297</td>\n",
       "    </tr>\n",
       "    <tr>\n",
       "      <th>6</th>\n",
       "      <td>17003</td>\n",
       "      <td>BROCADE RING PURSE</td>\n",
       "      <td>United Kingdom</td>\n",
       "      <td>22672</td>\n",
       "    </tr>\n",
       "    <tr>\n",
       "      <th>7</th>\n",
       "      <td>21212</td>\n",
       "      <td>PACK OF 72 RETROSPOT CAKE CASES</td>\n",
       "      <td>United Kingdom</td>\n",
       "      <td>22182</td>\n",
       "    </tr>\n",
       "    <tr>\n",
       "      <th>8</th>\n",
       "      <td>22178</td>\n",
       "      <td>VICTORIAN GLASS HANGING T-LIGHT</td>\n",
       "      <td>United Kingdom</td>\n",
       "      <td>21427</td>\n",
       "    </tr>\n",
       "    <tr>\n",
       "      <th>9</th>\n",
       "      <td>21977</td>\n",
       "      <td>PACK OF 60 PINK PAISLEY CAKE CASES</td>\n",
       "      <td>United Kingdom</td>\n",
       "      <td>19882</td>\n",
       "    </tr>\n",
       "  </tbody>\n",
       "</table>\n",
       "</div>"
      ],
      "text/plain": [
       "  stock_code                         description         country  product_sold\n",
       "0      84077   WORLD WAR 2 GLIDERS ASSTD DESIGNS  United Kingdom         47886\n",
       "1      22197                      POPCORN HOLDER  United Kingdom         45194\n",
       "2     85099B             JUMBO BAG RED RETROSPOT  United Kingdom         40777\n",
       "3      84879       ASSORTED COLOUR BIRD ORNAMENT  United Kingdom         32580\n",
       "4     85123A  CREAM HANGING HEART T-LIGHT HOLDER  United Kingdom         32136\n",
       "5      22616          PACK OF 12 LONDON TISSUES   United Kingdom         24297\n",
       "6      17003                 BROCADE RING PURSE   United Kingdom         22672\n",
       "7      21212     PACK OF 72 RETROSPOT CAKE CASES  United Kingdom         22182\n",
       "8      22178     VICTORIAN GLASS HANGING T-LIGHT  United Kingdom         21427\n",
       "9      21977  PACK OF 60 PINK PAISLEY CAKE CASES  United Kingdom         19882"
      ]
     },
     "execution_count": 51,
     "metadata": {},
     "output_type": "execute_result"
    }
   ],
   "source": [
    "top10_uk=pd.read_sql(query,conn)\n",
    "top10_uk"
   ]
  },
  {
   "cell_type": "code",
   "execution_count": 52,
   "id": "5c9881b4-6d39-4c19-8bc8-56ff70c15232",
   "metadata": {},
   "outputs": [],
   "source": [
    "# What is the most popular stock in Netherlands?\n",
    "query = \"\"\" select stock_code,\n",
    "                   description,\n",
    "                   country,\n",
    "                   sum(quantity) as product_sold\n",
    "                   from online_transactions_cleaned\n",
    "                   where country='Netherlands'\n",
    "                   group by stock_code\n",
    "                   order by product_sold desc\n",
    "                   limit 10\"\"\"  "
   ]
  },
  {
   "cell_type": "code",
   "execution_count": 53,
   "id": "4d17182b-169f-4bd5-b90d-83a046bf9abe",
   "metadata": {},
   "outputs": [
    {
     "data": {
      "text/html": [
       "<div>\n",
       "<style scoped>\n",
       "    .dataframe tbody tr th:only-of-type {\n",
       "        vertical-align: middle;\n",
       "    }\n",
       "\n",
       "    .dataframe tbody tr th {\n",
       "        vertical-align: top;\n",
       "    }\n",
       "\n",
       "    .dataframe thead th {\n",
       "        text-align: right;\n",
       "    }\n",
       "</style>\n",
       "<table border=\"1\" class=\"dataframe\">\n",
       "  <thead>\n",
       "    <tr style=\"text-align: right;\">\n",
       "      <th></th>\n",
       "      <th>stock_code</th>\n",
       "      <th>description</th>\n",
       "      <th>country</th>\n",
       "      <th>product_sold</th>\n",
       "    </tr>\n",
       "  </thead>\n",
       "  <tbody>\n",
       "    <tr>\n",
       "      <th>0</th>\n",
       "      <td>23084</td>\n",
       "      <td>RABBIT NIGHT LIGHT</td>\n",
       "      <td>Netherlands</td>\n",
       "      <td>4801</td>\n",
       "    </tr>\n",
       "    <tr>\n",
       "      <th>1</th>\n",
       "      <td>22629</td>\n",
       "      <td>SPACEBOY LUNCH BOX</td>\n",
       "      <td>Netherlands</td>\n",
       "      <td>4528</td>\n",
       "    </tr>\n",
       "    <tr>\n",
       "      <th>2</th>\n",
       "      <td>22630</td>\n",
       "      <td>DOLLY GIRL LUNCH BOX</td>\n",
       "      <td>Netherlands</td>\n",
       "      <td>4132</td>\n",
       "    </tr>\n",
       "    <tr>\n",
       "      <th>3</th>\n",
       "      <td>21212</td>\n",
       "      <td>PACK OF 72 RETROSPOT CAKE CASES</td>\n",
       "      <td>Netherlands</td>\n",
       "      <td>4128</td>\n",
       "    </tr>\n",
       "    <tr>\n",
       "      <th>4</th>\n",
       "      <td>22326</td>\n",
       "      <td>ROUND SNACK BOXES SET OF4 WOODLAND</td>\n",
       "      <td>Netherlands</td>\n",
       "      <td>3132</td>\n",
       "    </tr>\n",
       "    <tr>\n",
       "      <th>5</th>\n",
       "      <td>21731</td>\n",
       "      <td>RED TOADSTOOL LED NIGHT LIGHT</td>\n",
       "      <td>Netherlands</td>\n",
       "      <td>2388</td>\n",
       "    </tr>\n",
       "    <tr>\n",
       "      <th>6</th>\n",
       "      <td>20719</td>\n",
       "      <td>WOODLAND CHARLOTTE BAG</td>\n",
       "      <td>Netherlands</td>\n",
       "      <td>2310</td>\n",
       "    </tr>\n",
       "    <tr>\n",
       "      <th>7</th>\n",
       "      <td>20724</td>\n",
       "      <td>RED RETROSPOT CHARLOTTE BAG</td>\n",
       "      <td>Netherlands</td>\n",
       "      <td>2100</td>\n",
       "    </tr>\n",
       "    <tr>\n",
       "      <th>8</th>\n",
       "      <td>22243</td>\n",
       "      <td>5 HOOK HANGER RED MAGIC TOADSTOOL</td>\n",
       "      <td>Netherlands</td>\n",
       "      <td>2016</td>\n",
       "    </tr>\n",
       "    <tr>\n",
       "      <th>9</th>\n",
       "      <td>85099B</td>\n",
       "      <td>JUMBO BAG RED RETROSPOT</td>\n",
       "      <td>Netherlands</td>\n",
       "      <td>2000</td>\n",
       "    </tr>\n",
       "  </tbody>\n",
       "</table>\n",
       "</div>"
      ],
      "text/plain": [
       "  stock_code                          description      country  product_sold\n",
       "0      23084                   RABBIT NIGHT LIGHT  Netherlands          4801\n",
       "1      22629                  SPACEBOY LUNCH BOX   Netherlands          4528\n",
       "2      22630                 DOLLY GIRL LUNCH BOX  Netherlands          4132\n",
       "3      21212      PACK OF 72 RETROSPOT CAKE CASES  Netherlands          4128\n",
       "4      22326  ROUND SNACK BOXES SET OF4 WOODLAND   Netherlands          3132\n",
       "5      21731        RED TOADSTOOL LED NIGHT LIGHT  Netherlands          2388\n",
       "6      20719               WOODLAND CHARLOTTE BAG  Netherlands          2310\n",
       "7      20724          RED RETROSPOT CHARLOTTE BAG  Netherlands          2100\n",
       "8      22243    5 HOOK HANGER RED MAGIC TOADSTOOL  Netherlands          2016\n",
       "9     85099B              JUMBO BAG RED RETROSPOT  Netherlands          2000"
      ]
     },
     "execution_count": 53,
     "metadata": {},
     "output_type": "execute_result"
    }
   ],
   "source": [
    "top10_nl=pd.read_sql(query,conn)\n",
    "top10_nl"
   ]
  },
  {
   "cell_type": "code",
   "execution_count": 54,
   "id": "98b5f358-6cb0-4ec6-b465-92f1237e4677",
   "metadata": {},
   "outputs": [],
   "source": [
    "# What is the most popular stock in EIRE?\n",
    "query = \"\"\" select stock_code,\n",
    "                   description,\n",
    "                   country,\n",
    "                   sum(quantity) as product_sold\n",
    "                   from online_transactions_cleaned\n",
    "                   where country='EIRE'\n",
    "                   group by stock_code\n",
    "                   order by product_sold desc\n",
    "                   limit 10\"\"\" "
   ]
  },
  {
   "cell_type": "code",
   "execution_count": 55,
   "id": "abd7953f-3294-436b-b868-088a2de72bc7",
   "metadata": {},
   "outputs": [
    {
     "data": {
      "text/html": [
       "<div>\n",
       "<style scoped>\n",
       "    .dataframe tbody tr th:only-of-type {\n",
       "        vertical-align: middle;\n",
       "    }\n",
       "\n",
       "    .dataframe tbody tr th {\n",
       "        vertical-align: top;\n",
       "    }\n",
       "\n",
       "    .dataframe thead th {\n",
       "        text-align: right;\n",
       "    }\n",
       "</style>\n",
       "<table border=\"1\" class=\"dataframe\">\n",
       "  <thead>\n",
       "    <tr style=\"text-align: right;\">\n",
       "      <th></th>\n",
       "      <th>stock_code</th>\n",
       "      <th>description</th>\n",
       "      <th>country</th>\n",
       "      <th>product_sold</th>\n",
       "    </tr>\n",
       "  </thead>\n",
       "  <tbody>\n",
       "    <tr>\n",
       "      <th>0</th>\n",
       "      <td>22197</td>\n",
       "      <td>POPCORN HOLDER</td>\n",
       "      <td>EIRE</td>\n",
       "      <td>1785</td>\n",
       "    </tr>\n",
       "    <tr>\n",
       "      <th>1</th>\n",
       "      <td>21212</td>\n",
       "      <td>PACK OF 72 RETROSPOT CAKE CASES</td>\n",
       "      <td>EIRE</td>\n",
       "      <td>1632</td>\n",
       "    </tr>\n",
       "    <tr>\n",
       "      <th>2</th>\n",
       "      <td>84991</td>\n",
       "      <td>60 TEATIME FAIRY CAKE CASES</td>\n",
       "      <td>EIRE</td>\n",
       "      <td>1464</td>\n",
       "    </tr>\n",
       "    <tr>\n",
       "      <th>3</th>\n",
       "      <td>17084R</td>\n",
       "      <td>ASSORTED INCENSE PACK</td>\n",
       "      <td>EIRE</td>\n",
       "      <td>1440</td>\n",
       "    </tr>\n",
       "    <tr>\n",
       "      <th>4</th>\n",
       "      <td>21790</td>\n",
       "      <td>VINTAGE SNAP CARDS</td>\n",
       "      <td>EIRE</td>\n",
       "      <td>1420</td>\n",
       "    </tr>\n",
       "    <tr>\n",
       "      <th>5</th>\n",
       "      <td>21166</td>\n",
       "      <td>COOK WITH WINE METAL SIGN</td>\n",
       "      <td>EIRE</td>\n",
       "      <td>1219</td>\n",
       "    </tr>\n",
       "    <tr>\n",
       "      <th>6</th>\n",
       "      <td>22952</td>\n",
       "      <td>60 CAKE CASES VINTAGE CHRISTMAS</td>\n",
       "      <td>EIRE</td>\n",
       "      <td>1200</td>\n",
       "    </tr>\n",
       "    <tr>\n",
       "      <th>7</th>\n",
       "      <td>23230</td>\n",
       "      <td>WRAP ALPHABET DESIGN</td>\n",
       "      <td>EIRE</td>\n",
       "      <td>1175</td>\n",
       "    </tr>\n",
       "    <tr>\n",
       "      <th>8</th>\n",
       "      <td>21169</td>\n",
       "      <td>YOU'RE CONFUSING ME METAL SIGN</td>\n",
       "      <td>EIRE</td>\n",
       "      <td>1127</td>\n",
       "    </tr>\n",
       "    <tr>\n",
       "      <th>9</th>\n",
       "      <td>84992</td>\n",
       "      <td>72 SWEETHEART FAIRY CAKE CASES</td>\n",
       "      <td>EIRE</td>\n",
       "      <td>1104</td>\n",
       "    </tr>\n",
       "  </tbody>\n",
       "</table>\n",
       "</div>"
      ],
      "text/plain": [
       "  stock_code                      description country  product_sold\n",
       "0      22197                   POPCORN HOLDER    EIRE          1785\n",
       "1      21212  PACK OF 72 RETROSPOT CAKE CASES    EIRE          1632\n",
       "2      84991      60 TEATIME FAIRY CAKE CASES    EIRE          1464\n",
       "3     17084R            ASSORTED INCENSE PACK    EIRE          1440\n",
       "4      21790               VINTAGE SNAP CARDS    EIRE          1420\n",
       "5      21166       COOK WITH WINE METAL SIGN     EIRE          1219\n",
       "6      22952  60 CAKE CASES VINTAGE CHRISTMAS    EIRE          1200\n",
       "7      23230             WRAP ALPHABET DESIGN    EIRE          1175\n",
       "8      21169  YOU'RE CONFUSING ME METAL SIGN     EIRE          1127\n",
       "9      84992   72 SWEETHEART FAIRY CAKE CASES    EIRE          1104"
      ]
     },
     "execution_count": 55,
     "metadata": {},
     "output_type": "execute_result"
    }
   ],
   "source": [
    "top10_eire=pd.read_sql(query,conn)\n",
    "top10_eire"
   ]
  },
  {
   "cell_type": "markdown",
   "id": "50f8558b-e759-4e85-9f8b-b85c15288c45",
   "metadata": {},
   "source": [
    "So far, I have analysed top 10 high sale countries and kind of products sold in that countries.\n",
    "\n",
    "My observation is, some countries are having the same kind of items in their top 10 sold items list"
   ]
  },
  {
   "cell_type": "markdown",
   "id": "8bf8c3ac-ca8f-4cce-8422-05336ae10930",
   "metadata": {},
   "source": [
    "## 4.Customer Categories "
   ]
  },
  {
   "cell_type": "markdown",
   "id": "f9066cb4-04cb-48f2-b2dd-5d5dbb536bd3",
   "metadata": {},
   "source": [
    "Let's divide the customers into categories based on their purchase frequency."
   ]
  },
  {
   "cell_type": "markdown",
   "id": "fe573a1c-e22c-4f2d-ae58-7531c871920a",
   "metadata": {},
   "source": [
    "### Calculate Frequency:\n",
    "\n",
    "Determine the purchase frequency for each customer. This can be done by counting the number of transactions for each customer over a specific period."
   ]
  },
  {
   "cell_type": "markdown",
   "id": "0b032ec9-7898-4b0d-bafe-2b23960d550c",
   "metadata": {},
   "source": [
    "### Define Segmentation Criteria:\n",
    "\n",
    "Decide on the criteria for segmenting your customers based on frequency. \n",
    "\n",
    "Common segments include:\n",
    "\n",
    "High-frequency customers: Customers who purchase very often.\n",
    "\n",
    "Medium-frequency customers: Customers who purchase regularly but not as often as high-frequency customers. \n",
    "\n",
    "Low-frequency customers: Customers who purchase infrequently. \n",
    "\n",
    "Inactive customers: Customers who have not made a purchase in a long time."
   ]
  },
  {
   "cell_type": "code",
   "execution_count": 56,
   "id": "f8ede21a-fb53-49f2-89af-bea2b1863e2d",
   "metadata": {},
   "outputs": [
    {
     "data": {
      "text/html": [
       "<div>\n",
       "<style scoped>\n",
       "    .dataframe tbody tr th:only-of-type {\n",
       "        vertical-align: middle;\n",
       "    }\n",
       "\n",
       "    .dataframe tbody tr th {\n",
       "        vertical-align: top;\n",
       "    }\n",
       "\n",
       "    .dataframe thead th {\n",
       "        text-align: right;\n",
       "    }\n",
       "</style>\n",
       "<table border=\"1\" class=\"dataframe\">\n",
       "  <thead>\n",
       "    <tr style=\"text-align: right;\">\n",
       "      <th></th>\n",
       "      <th>customer_id</th>\n",
       "      <th>Frequency</th>\n",
       "    </tr>\n",
       "  </thead>\n",
       "  <tbody>\n",
       "    <tr>\n",
       "      <th>0</th>\n",
       "      <td>u12346</td>\n",
       "      <td>1</td>\n",
       "    </tr>\n",
       "    <tr>\n",
       "      <th>1</th>\n",
       "      <td>u12347</td>\n",
       "      <td>182</td>\n",
       "    </tr>\n",
       "    <tr>\n",
       "      <th>2</th>\n",
       "      <td>u12348</td>\n",
       "      <td>27</td>\n",
       "    </tr>\n",
       "    <tr>\n",
       "      <th>3</th>\n",
       "      <td>u12349</td>\n",
       "      <td>72</td>\n",
       "    </tr>\n",
       "    <tr>\n",
       "      <th>4</th>\n",
       "      <td>u1235</td>\n",
       "      <td>16</td>\n",
       "    </tr>\n",
       "    <tr>\n",
       "      <th>...</th>\n",
       "      <td>...</td>\n",
       "      <td>...</td>\n",
       "    </tr>\n",
       "    <tr>\n",
       "      <th>4330</th>\n",
       "      <td>u1828</td>\n",
       "      <td>10</td>\n",
       "    </tr>\n",
       "    <tr>\n",
       "      <th>4331</th>\n",
       "      <td>u18281</td>\n",
       "      <td>7</td>\n",
       "    </tr>\n",
       "    <tr>\n",
       "      <th>4332</th>\n",
       "      <td>u18282</td>\n",
       "      <td>12</td>\n",
       "    </tr>\n",
       "    <tr>\n",
       "      <th>4333</th>\n",
       "      <td>u18283</td>\n",
       "      <td>719</td>\n",
       "    </tr>\n",
       "    <tr>\n",
       "      <th>4334</th>\n",
       "      <td>u18287</td>\n",
       "      <td>70</td>\n",
       "    </tr>\n",
       "  </tbody>\n",
       "</table>\n",
       "<p>4335 rows × 2 columns</p>\n",
       "</div>"
      ],
      "text/plain": [
       "     customer_id  Frequency\n",
       "0         u12346          1\n",
       "1         u12347        182\n",
       "2         u12348         27\n",
       "3         u12349         72\n",
       "4          u1235         16\n",
       "...          ...        ...\n",
       "4330       u1828         10\n",
       "4331      u18281          7\n",
       "4332      u18282         12\n",
       "4333      u18283        719\n",
       "4334      u18287         70\n",
       "\n",
       "[4335 rows x 2 columns]"
      ]
     },
     "execution_count": 56,
     "metadata": {},
     "output_type": "execute_result"
    }
   ],
   "source": [
    "### Implement Segmentation \n",
    "# Calculate purchase frequency\n",
    "frequency = data.groupby('customer_id').size().reset_index(name = 'Frequency')\n",
    "frequency"
   ]
  },
  {
   "cell_type": "code",
   "execution_count": 57,
   "id": "a7da90e6-3b51-4887-91b3-f8390f818fa7",
   "metadata": {},
   "outputs": [
    {
     "data": {
      "text/html": [
       "<div>\n",
       "<style scoped>\n",
       "    .dataframe tbody tr th:only-of-type {\n",
       "        vertical-align: middle;\n",
       "    }\n",
       "\n",
       "    .dataframe tbody tr th {\n",
       "        vertical-align: top;\n",
       "    }\n",
       "\n",
       "    .dataframe thead th {\n",
       "        text-align: right;\n",
       "    }\n",
       "</style>\n",
       "<table border=\"1\" class=\"dataframe\">\n",
       "  <thead>\n",
       "    <tr style=\"text-align: right;\">\n",
       "      <th></th>\n",
       "      <th>customer_id</th>\n",
       "      <th>Frequency</th>\n",
       "      <th>Segment</th>\n",
       "    </tr>\n",
       "  </thead>\n",
       "  <tbody>\n",
       "    <tr>\n",
       "      <th>0</th>\n",
       "      <td>u12346</td>\n",
       "      <td>1</td>\n",
       "      <td>Low-frequency</td>\n",
       "    </tr>\n",
       "    <tr>\n",
       "      <th>1</th>\n",
       "      <td>u12347</td>\n",
       "      <td>182</td>\n",
       "      <td>High-frequency</td>\n",
       "    </tr>\n",
       "    <tr>\n",
       "      <th>2</th>\n",
       "      <td>u12348</td>\n",
       "      <td>27</td>\n",
       "      <td>Low-frequency</td>\n",
       "    </tr>\n",
       "    <tr>\n",
       "      <th>3</th>\n",
       "      <td>u12349</td>\n",
       "      <td>72</td>\n",
       "      <td>Medium-frequency</td>\n",
       "    </tr>\n",
       "    <tr>\n",
       "      <th>4</th>\n",
       "      <td>u1235</td>\n",
       "      <td>16</td>\n",
       "      <td>Low-frequency</td>\n",
       "    </tr>\n",
       "    <tr>\n",
       "      <th>...</th>\n",
       "      <td>...</td>\n",
       "      <td>...</td>\n",
       "      <td>...</td>\n",
       "    </tr>\n",
       "    <tr>\n",
       "      <th>4330</th>\n",
       "      <td>u1828</td>\n",
       "      <td>10</td>\n",
       "      <td>Low-frequency</td>\n",
       "    </tr>\n",
       "    <tr>\n",
       "      <th>4331</th>\n",
       "      <td>u18281</td>\n",
       "      <td>7</td>\n",
       "      <td>Low-frequency</td>\n",
       "    </tr>\n",
       "    <tr>\n",
       "      <th>4332</th>\n",
       "      <td>u18282</td>\n",
       "      <td>12</td>\n",
       "      <td>Low-frequency</td>\n",
       "    </tr>\n",
       "    <tr>\n",
       "      <th>4333</th>\n",
       "      <td>u18283</td>\n",
       "      <td>719</td>\n",
       "      <td>High-frequency</td>\n",
       "    </tr>\n",
       "    <tr>\n",
       "      <th>4334</th>\n",
       "      <td>u18287</td>\n",
       "      <td>70</td>\n",
       "      <td>Medium-frequency</td>\n",
       "    </tr>\n",
       "  </tbody>\n",
       "</table>\n",
       "<p>4335 rows × 3 columns</p>\n",
       "</div>"
      ],
      "text/plain": [
       "     customer_id  Frequency           Segment\n",
       "0         u12346          1     Low-frequency\n",
       "1         u12347        182    High-frequency\n",
       "2         u12348         27     Low-frequency\n",
       "3         u12349         72  Medium-frequency\n",
       "4          u1235         16     Low-frequency\n",
       "...          ...        ...               ...\n",
       "4330       u1828         10     Low-frequency\n",
       "4331      u18281          7     Low-frequency\n",
       "4332      u18282         12     Low-frequency\n",
       "4333      u18283        719    High-frequency\n",
       "4334      u18287         70  Medium-frequency\n",
       "\n",
       "[4335 rows x 3 columns]"
      ]
     },
     "execution_count": 57,
     "metadata": {},
     "output_type": "execute_result"
    }
   ],
   "source": [
    "# Define segmentation bins\n",
    "bins = [0, 50, 100, float('inf')]\n",
    "labels = ['Low-frequency', 'Medium-frequency', 'High-frequency']\n",
    "# Segment customers\n",
    "frequency['Segment'] = pd.cut(frequency['Frequency'], bins=bins, labels=labels, right=False)\n",
    "frequency"
   ]
  },
  {
   "cell_type": "code",
   "execution_count": 58,
   "id": "93f6ae2c-c3e0-41cc-85b8-b76f93f07e25",
   "metadata": {},
   "outputs": [
    {
     "data": {
      "text/html": [
       "<div>\n",
       "<style scoped>\n",
       "    .dataframe tbody tr th:only-of-type {\n",
       "        vertical-align: middle;\n",
       "    }\n",
       "\n",
       "    .dataframe tbody tr th {\n",
       "        vertical-align: top;\n",
       "    }\n",
       "\n",
       "    .dataframe thead th {\n",
       "        text-align: right;\n",
       "    }\n",
       "</style>\n",
       "<table border=\"1\" class=\"dataframe\">\n",
       "  <thead>\n",
       "    <tr style=\"text-align: right;\">\n",
       "      <th></th>\n",
       "      <th>Segment</th>\n",
       "      <th>value</th>\n",
       "    </tr>\n",
       "  </thead>\n",
       "  <tbody>\n",
       "    <tr>\n",
       "      <th>0</th>\n",
       "      <td>Low-frequency</td>\n",
       "      <td>2427</td>\n",
       "    </tr>\n",
       "    <tr>\n",
       "      <th>1</th>\n",
       "      <td>Medium-frequency</td>\n",
       "      <td>841</td>\n",
       "    </tr>\n",
       "    <tr>\n",
       "      <th>2</th>\n",
       "      <td>High-frequency</td>\n",
       "      <td>1067</td>\n",
       "    </tr>\n",
       "  </tbody>\n",
       "</table>\n",
       "</div>"
      ],
      "text/plain": [
       "            Segment  value\n",
       "0     Low-frequency   2427\n",
       "1  Medium-frequency    841\n",
       "2    High-frequency   1067"
      ]
     },
     "execution_count": 58,
     "metadata": {},
     "output_type": "execute_result"
    }
   ],
   "source": [
    "customer_seg_frequency=frequency.groupby('Segment')['customer_id'].count().to_frame(name='value').reset_index()\n",
    "customer_seg_frequency"
   ]
  },
  {
   "cell_type": "code",
   "execution_count": 59,
   "id": "f03dc6d9-3b91-4e84-9e92-069ca0a3deaa",
   "metadata": {},
   "outputs": [
    {
     "data": {
      "text/plain": [
       "<Axes: xlabel='Segment'>"
      ]
     },
     "execution_count": 59,
     "metadata": {},
     "output_type": "execute_result"
    },
    {
     "data": {
      "image/png": "[encoded data removed]",
      "text/plain": [
       "<Figure size 640x480 with 1 Axes>"
      ]
     },
     "metadata": {},
     "output_type": "display_data"
    }
   ],
   "source": [
    "customer_seg_frequency.plot.bar(x='Segment', y='value',rot=45)"
   ]
  },
  {
   "cell_type": "markdown",
   "id": "fd7c1ec3-af8e-4c83-90a2-d41bb99d8bcb",
   "metadata": {},
   "source": [
    "### 5.Classification of customers using K-Means "
   ]
  },
  {
   "cell_type": "markdown",
   "id": "c3ffa0d4-ed9a-4ed6-82f6-153468d006bc",
   "metadata": {},
   "source": [
    "### Preprocessing Data for Segmentation\n",
    "The informative features in this dataset that tell us about customer buying behavior include “quantity”, “invoice_date” and “total_cost” Using these variables, we are going to derive a customer’s RFM profile - Recency, Frequency, Monetary Value.\n",
    "\n",
    "RFM is commonly used in marketing to evaluate a client’s value based on their:\n",
    "Recency (R): How recently did a particular customer make a purchase?\n",
    "Frequency (F): How often do they make purchases?\n",
    "Monetary Value (M): How much money do they spend?\n",
    "\n",
    "We’ll use the information in the dataset to compute the recency, frequency, and monetary values. Then, we’ll map these values to the generally used RFM score scale of 1 - 5. \n",
    "\n",
    "we’ll try to identify customer segments with similar RFM characteristics. And for this, we’ll use K-Means clustering, an unsupervised machine learning algorithm that groups similar data points into clusters."
   ]
  },
  {
   "cell_type": "code",
   "execution_count": 64,
   "id": "89a85673-1ab0-4fb7-93aa-d5a66fa2696c",
   "metadata": {},
   "outputs": [
    {
     "name": "stdout",
     "output_type": "stream",
     "text": [
      "<class 'pandas.core.frame.DataFrame'>\n",
      "RangeIndex: 391334 entries, 0 to 391333\n",
      "Data columns (total 9 columns):\n",
      " #   Column          Non-Null Count   Dtype         \n",
      "---  ------          --------------   -----         \n",
      " 0   invoice         391334 non-null  object        \n",
      " 1   stock_code      391334 non-null  object        \n",
      " 2   description     391334 non-null  object        \n",
      " 3   invoice_date    391334 non-null  datetime64[ns]\n",
      " 4   customer_id     391334 non-null  object        \n",
      " 5   country         391334 non-null  object        \n",
      " 6   net_quantity    391334 non-null  float64       \n",
      " 7   price_per_unit  391334 non-null  float64       \n",
      " 8   total_cost      391334 non-null  float64       \n",
      "dtypes: datetime64[ns](1), float64(3), object(5)\n",
      "memory usage: 26.9+ MB\n"
     ]
    }
   ],
   "source": [
    "data.info()"
   ]
  },
  {
   "cell_type": "markdown",
   "id": "2f32bcbf-f423-4111-91d8-26ea37eda3a4",
   "metadata": {},
   "source": [
    "### Compute Recency, Frequency, and Monetary Value"
   ]
  },
  {
   "cell_type": "code",
   "execution_count": 61,
   "id": "ed13b02a-c935-4a0d-a823-7d869ed38938",
   "metadata": {},
   "outputs": [],
   "source": [
    "# defining a reference date 'snapshot_date' that’s a day later than the most recent date in the “invoice_date” column:\n",
    "\n",
    "snapshot_date = max(data['invoice_date']) + pd.DateOffset(days=1)"
   ]
  },
  {
   "cell_type": "markdown",
   "id": "b8ca3bb5-f63a-4940-8aaa-e8740f5e810b",
   "metadata": {},
   "source": [
    "1.For recency, we’ll calculate the difference between the most recent purchase date and a reference date (snapshot_date). This gives the number of days since the customer's last purchase. \n",
    "\n",
    "2.For frequency measures how often a customer makes purchases, we’ll calculate it as the total number of unique invoices or transactions made by each customer.\n",
    "\n",
    "3.For Monetary value quantifies how much money a customer spends. So we’ll find the average of the total monetary value across transactions.\n"
   ]
  },
  {
   "cell_type": "code",
   "execution_count": 65,
   "id": "6963694b-ec49-4d10-bdb3-56fe4010b8d9",
   "metadata": {},
   "outputs": [],
   "source": [
    "rfm = data.groupby('customer_id').agg({\n",
    "    'invoice_date': lambda x: (snapshot_date - x.max()).days,\n",
    "    'invoice': 'nunique',\n",
    "    'total_cost': 'sum'\n",
    "})"
   ]
  },
  {
   "cell_type": "code",
   "execution_count": 66,
   "id": "126c34e9-1d86-4505-83dc-b83fb974d4fb",
   "metadata": {},
   "outputs": [
    {
     "data": {
      "text/html": [
       "<div>\n",
       "<style scoped>\n",
       "    .dataframe tbody tr th:only-of-type {\n",
       "        vertical-align: middle;\n",
       "    }\n",
       "\n",
       "    .dataframe tbody tr th {\n",
       "        vertical-align: top;\n",
       "    }\n",
       "\n",
       "    .dataframe thead th {\n",
       "        text-align: right;\n",
       "    }\n",
       "</style>\n",
       "<table border=\"1\" class=\"dataframe\">\n",
       "  <thead>\n",
       "    <tr style=\"text-align: right;\">\n",
       "      <th></th>\n",
       "      <th>Recency</th>\n",
       "      <th>Frequency</th>\n",
       "      <th>MonetaryValue</th>\n",
       "    </tr>\n",
       "    <tr>\n",
       "      <th>customer_id</th>\n",
       "      <th></th>\n",
       "      <th></th>\n",
       "      <th></th>\n",
       "    </tr>\n",
       "  </thead>\n",
       "  <tbody>\n",
       "    <tr>\n",
       "      <th>u12346</th>\n",
       "      <td>326</td>\n",
       "      <td>1</td>\n",
       "      <td>0.00</td>\n",
       "    </tr>\n",
       "    <tr>\n",
       "      <th>u12347</th>\n",
       "      <td>2</td>\n",
       "      <td>7</td>\n",
       "      <td>4310.00</td>\n",
       "    </tr>\n",
       "    <tr>\n",
       "      <th>u12348</th>\n",
       "      <td>75</td>\n",
       "      <td>4</td>\n",
       "      <td>1437.24</td>\n",
       "    </tr>\n",
       "    <tr>\n",
       "      <th>u12349</th>\n",
       "      <td>19</td>\n",
       "      <td>1</td>\n",
       "      <td>1457.55</td>\n",
       "    </tr>\n",
       "    <tr>\n",
       "      <th>u1235</th>\n",
       "      <td>310</td>\n",
       "      <td>1</td>\n",
       "      <td>294.40</td>\n",
       "    </tr>\n",
       "  </tbody>\n",
       "</table>\n",
       "</div>"
      ],
      "text/plain": [
       "             Recency  Frequency  MonetaryValue\n",
       "customer_id                                   \n",
       "u12346           326          1           0.00\n",
       "u12347             2          7        4310.00\n",
       "u12348            75          4        1437.24\n",
       "u12349            19          1        1457.55\n",
       "u1235            310          1         294.40"
      ]
     },
     "execution_count": 66,
     "metadata": {},
     "output_type": "execute_result"
    }
   ],
   "source": [
    "# rename the columns for readability\n",
    "rfm.rename(columns={'invoice_date': 'Recency', 'invoice': 'Frequency', 'total_cost': 'MonetaryValue'}, inplace=True)\n",
    "rfm.head()"
   ]
  },
  {
   "cell_type": "markdown",
   "id": "19820c0d-df86-4d9a-aea1-554fccff669f",
   "metadata": {},
   "source": [
    "### Map RFM Values onto a 1-5 Scale \n",
    "Now let’s map the “Recency”, “Frequency”, and “MonetaryValue” columns to take on values in a scale of 1-5; one of {1,2,3,4,5}.\n",
    "We’ll essentially assign the values to five different bins, and map each bin to a value. To help us fix the bin edges, let’s use the quantile values of the “Recency”, “Frequency”, and “MonetaryValue” columns:"
   ]
  },
  {
   "cell_type": "code",
   "execution_count": 67,
   "id": "7eef94a3-4168-47bc-b702-0b800690b7a3",
   "metadata": {},
   "outputs": [
    {
     "data": {
      "text/html": [
       "<div>\n",
       "<style scoped>\n",
       "    .dataframe tbody tr th:only-of-type {\n",
       "        vertical-align: middle;\n",
       "    }\n",
       "\n",
       "    .dataframe tbody tr th {\n",
       "        vertical-align: top;\n",
       "    }\n",
       "\n",
       "    .dataframe thead th {\n",
       "        text-align: right;\n",
       "    }\n",
       "</style>\n",
       "<table border=\"1\" class=\"dataframe\">\n",
       "  <thead>\n",
       "    <tr style=\"text-align: right;\">\n",
       "      <th></th>\n",
       "      <th>Recency</th>\n",
       "      <th>Frequency</th>\n",
       "      <th>MonetaryValue</th>\n",
       "    </tr>\n",
       "  </thead>\n",
       "  <tbody>\n",
       "    <tr>\n",
       "      <th>count</th>\n",
       "      <td>4335.000000</td>\n",
       "      <td>4335.000000</td>\n",
       "      <td>4.335000e+03</td>\n",
       "    </tr>\n",
       "    <tr>\n",
       "      <th>mean</th>\n",
       "      <td>92.684890</td>\n",
       "      <td>4.246367</td>\n",
       "      <td>2.264395e+03</td>\n",
       "    </tr>\n",
       "    <tr>\n",
       "      <th>std</th>\n",
       "      <td>100.172622</td>\n",
       "      <td>7.643880</td>\n",
       "      <td>2.802611e+04</td>\n",
       "    </tr>\n",
       "    <tr>\n",
       "      <th>min</th>\n",
       "      <td>1.000000</td>\n",
       "      <td>1.000000</td>\n",
       "      <td>0.000000e+00</td>\n",
       "    </tr>\n",
       "    <tr>\n",
       "      <th>25%</th>\n",
       "      <td>18.000000</td>\n",
       "      <td>1.000000</td>\n",
       "      <td>2.903800e+02</td>\n",
       "    </tr>\n",
       "    <tr>\n",
       "      <th>50%</th>\n",
       "      <td>51.000000</td>\n",
       "      <td>2.000000</td>\n",
       "      <td>6.362400e+02</td>\n",
       "    </tr>\n",
       "    <tr>\n",
       "      <th>75%</th>\n",
       "      <td>143.000000</td>\n",
       "      <td>5.000000</td>\n",
       "      <td>1.554600e+03</td>\n",
       "    </tr>\n",
       "    <tr>\n",
       "      <th>max</th>\n",
       "      <td>374.000000</td>\n",
       "      <td>206.000000</td>\n",
       "      <td>1.761384e+06</td>\n",
       "    </tr>\n",
       "  </tbody>\n",
       "</table>\n",
       "</div>"
      ],
      "text/plain": [
       "           Recency    Frequency  MonetaryValue\n",
       "count  4335.000000  4335.000000   4.335000e+03\n",
       "mean     92.684890     4.246367   2.264395e+03\n",
       "std     100.172622     7.643880   2.802611e+04\n",
       "min       1.000000     1.000000   0.000000e+00\n",
       "25%      18.000000     1.000000   2.903800e+02\n",
       "50%      51.000000     2.000000   6.362400e+02\n",
       "75%     143.000000     5.000000   1.554600e+03\n",
       "max     374.000000   206.000000   1.761384e+06"
      ]
     },
     "execution_count": 67,
     "metadata": {},
     "output_type": "execute_result"
    }
   ],
   "source": [
    "rfm.describe()"
   ]
  },
  {
   "cell_type": "code",
   "execution_count": 68,
   "id": "889642d3-7588-441d-bc3f-d12ee65efd75",
   "metadata": {},
   "outputs": [],
   "source": [
    "# Calculate custom bin edges for Recency, Frequency, and Monetary scores\n",
    "recency_bins = [rfm['Recency'].min()-1, 20, 50, 150, 250, rfm['Recency'].max()]\n",
    "frequency_bins = [rfm['Frequency'].min() - 1, 2, 3, 10, 100, rfm['Frequency'].max()]\n",
    "monetary_bins = [rfm['MonetaryValue'].min() - 3, 300, 600, 2000, 5000, rfm['MonetaryValue'].max()]"
   ]
  },
  {
   "cell_type": "markdown",
   "id": "402c5edd-f3c2-43a8-a89a-c98ee8ca9979",
   "metadata": {},
   "source": [
    "Now that we’ve defined the bin edges, let’s map the scores to corresponding labels between 1 and 5 (both inclusive):"
   ]
  },
  {
   "cell_type": "code",
   "execution_count": 69,
   "id": "7e0a87ae-d47e-4a2b-9362-a1c00f7f8ca5",
   "metadata": {},
   "outputs": [],
   "source": [
    "# Calculate Recency score based on custom bins \n",
    "rfm['R_Score'] = pd.cut(rfm['Recency'], bins=recency_bins, labels=range(1, 6), include_lowest=True)\n",
    "\n",
    "# Reverse the Recency scores so that higher values indicate more recent purchases\n",
    "rfm['R_Score'] = 5 - rfm['R_Score'].astype(int) + 1\n",
    "\n",
    "# Calculate Frequency and Monetary scores based on custom bins\n",
    "rfm['F_Score'] = pd.cut(rfm['Frequency'], bins=frequency_bins, labels=range(1, 6), include_lowest=True).astype(int)\n",
    "rfm['M_Score'] = pd.cut(rfm['MonetaryValue'], bins=monetary_bins, labels=range(1, 6), include_lowest=True).astype(int)"
   ]
  },
  {
   "cell_type": "markdown",
   "id": "157136fd-a68b-4f95-bdfd-9c40cbf5529a",
   "metadata": {},
   "source": [
    "Notice that the R_Score, based on the bins, is 1 for recent purchases 5 for all purchases made over 250 days ago. But we’d like the most recent purchases to have an R_Score of 5 and purchases made over 250 days ago to have an R_Score of 1.\n",
    "\n",
    "To achieve the desired mapping, we do: 5 - rfm['R_Score'].astype(int) + 1.\n",
    "\n",
    "Let’s look at the first few rows of the R_Score, F_Score, and M_Score columns:"
   ]
  },
  {
   "cell_type": "code",
   "execution_count": 70,
   "id": "7ce35413-c509-4414-8c13-396ab5edddde",
   "metadata": {},
   "outputs": [
    {
     "name": "stdout",
     "output_type": "stream",
     "text": [
      "             R_Score  F_Score  M_Score\n",
      "customer_id                           \n",
      "u12346             1        1        1\n",
      "u12347             5        3        4\n",
      "u12348             3        3        3\n",
      "u12349             5        1        3\n",
      "u1235              1        1        1\n",
      "u12352             4        3        3\n",
      "u12353             2        1        1\n",
      "u12354             2        1        3\n",
      "u12355             2        1        2\n",
      "u12356             4        2        4\n"
     ]
    }
   ],
   "source": [
    "# Print the first few rows of the RFM DataFrame to verify the scores\n",
    "print(rfm[['R_Score', 'F_Score', 'M_Score']].head(10))"
   ]
  },
  {
   "cell_type": "markdown",
   "id": "4282d93d-6c8b-4d80-817b-3f800d625e0d",
   "metadata": {},
   "source": [
    "### Perform K-Means Clustering\n",
    "K-Means clustering is sensitive to the scale of features. Because the R, F, and M values are all on the same scale, we can proceed to perform clustering without further scaling the features.\n",
    "Let’s extract the R, F, and M scores to perform K-Means clustering:"
   ]
  },
  {
   "cell_type": "code",
   "execution_count": 72,
   "id": "26952e2d-17bb-4916-95de-8cd07bb8203c",
   "metadata": {},
   "outputs": [],
   "source": [
    "# Extract RFM scores for K-means clustering\n",
    "X = rfm[['R_Score', 'F_Score', 'M_Score']]"
   ]
  },
  {
   "cell_type": "markdown",
   "id": "c173f851-cf18-4493-96c7-a3b137b5f57d",
   "metadata": {},
   "source": [
    "we need to find the optimal number of clusters. For this let’s run the K-Means algorithm for a range of K values and use the elbow method to pick the optimal K:"
   ]
  },
  {
   "cell_type": "code",
   "execution_count": 76,
   "id": "d77d6eac-7e61-46bc-b3d2-1e7c57ac0505",
   "metadata": {},
   "outputs": [
    {
     "data": {
      "image/png": "[encoded data removed]",
      "text/plain": [
       "<Figure size 750x600 with 1 Axes>"
      ]
     },
     "metadata": {},
     "output_type": "display_data"
    }
   ],
   "source": [
    "# Calculate inertia (sum of squared distances) for different values of k\n",
    "inertia = []\n",
    "for k in range(2, 11):\n",
    "    kmeans = KMeans(n_clusters=k, n_init= 10, random_state=42)\n",
    "    kmeans.fit(X)\n",
    "    inertia.append(kmeans.inertia_)\n",
    "\n",
    "# Plot the elbow curve\n",
    "plt.figure(figsize=(5, 4),dpi=150)\n",
    "plt.plot(range(2, 11), inertia, marker='o')\n",
    "plt.xlabel('Number of Clusters (k)')\n",
    "plt.ylabel('Inertia')\n",
    "plt.title('Elbow Curve for K-means Clustering')\n",
    "plt.grid(True)\n",
    "plt.show()"
   ]
  },
  {
   "cell_type": "markdown",
   "id": "d0418577-9da4-42f4-95ac-4ca0cd5b379c",
   "metadata": {},
   "source": [
    "let’s divide the customer base into four segments.\n",
    "We’ve fixed K to 4. So let’s run the K-Means algorithm to get the cluster assignments for all points in the dataset:"
   ]
  },
  {
   "cell_type": "code",
   "execution_count": 77,
   "id": "9fb2779d-5f7e-49ac-ad00-15d612bf688c",
   "metadata": {},
   "outputs": [],
   "source": [
    "# Perform K-means clustering with best K\n",
    "best_kmeans = KMeans(n_clusters=4, n_init=10, random_state=42)\n",
    "rfm['Cluster'] = best_kmeans.fit_predict(X)"
   ]
  },
  {
   "cell_type": "markdown",
   "id": "49b34825-6971-496e-8aef-be39dc135632",
   "metadata": {},
   "source": [
    "### Interpret the Clusters to Identify Customer Segments "
   ]
  },
  {
   "cell_type": "code",
   "execution_count": 79,
   "id": "b5381b37-a8e2-42cf-93ef-f2db2438352f",
   "metadata": {},
   "outputs": [],
   "source": [
    "# Group by cluster and calculate mean values\n",
    "cluster_summary = rfm.groupby('Cluster').agg({\n",
    "    'R_Score': 'mean',\n",
    "    'F_Score': 'mean',\n",
    "    'M_Score': 'mean'\n",
    "}).reset_index()"
   ]
  },
  {
   "cell_type": "code",
   "execution_count": 80,
   "id": "9f49aeac-7d47-4244-a7fa-60cd61181ca4",
   "metadata": {},
   "outputs": [
    {
     "data": {
      "text/html": [
       "<div>\n",
       "<style scoped>\n",
       "    .dataframe tbody tr th:only-of-type {\n",
       "        vertical-align: middle;\n",
       "    }\n",
       "\n",
       "    .dataframe tbody tr th {\n",
       "        vertical-align: top;\n",
       "    }\n",
       "\n",
       "    .dataframe thead th {\n",
       "        text-align: right;\n",
       "    }\n",
       "</style>\n",
       "<table border=\"1\" class=\"dataframe\">\n",
       "  <thead>\n",
       "    <tr style=\"text-align: right;\">\n",
       "      <th></th>\n",
       "      <th>Cluster</th>\n",
       "      <th>R_Score</th>\n",
       "      <th>F_Score</th>\n",
       "      <th>M_Score</th>\n",
       "    </tr>\n",
       "  </thead>\n",
       "  <tbody>\n",
       "    <tr>\n",
       "      <th>0</th>\n",
       "      <td>0</td>\n",
       "      <td>1.488542</td>\n",
       "      <td>1.055208</td>\n",
       "      <td>1.582292</td>\n",
       "    </tr>\n",
       "    <tr>\n",
       "      <th>1</th>\n",
       "      <td>1</td>\n",
       "      <td>3.270492</td>\n",
       "      <td>2.186703</td>\n",
       "      <td>3.097450</td>\n",
       "    </tr>\n",
       "    <tr>\n",
       "      <th>2</th>\n",
       "      <td>2</td>\n",
       "      <td>3.870386</td>\n",
       "      <td>1.095160</td>\n",
       "      <td>1.580804</td>\n",
       "    </tr>\n",
       "    <tr>\n",
       "      <th>3</th>\n",
       "      <td>3</td>\n",
       "      <td>4.810964</td>\n",
       "      <td>3.227788</td>\n",
       "      <td>3.811909</td>\n",
       "    </tr>\n",
       "  </tbody>\n",
       "</table>\n",
       "</div>"
      ],
      "text/plain": [
       "   Cluster   R_Score   F_Score   M_Score\n",
       "0        0  1.488542  1.055208  1.582292\n",
       "1        1  3.270492  2.186703  3.097450\n",
       "2        2  3.870386  1.095160  1.580804\n",
       "3        3  4.810964  3.227788  3.811909"
      ]
     },
     "execution_count": 80,
     "metadata": {},
     "output_type": "execute_result"
    }
   ],
   "source": [
    "cluster_summary"
   ]
  },
  {
   "cell_type": "code",
   "execution_count": 81,
   "id": "0198d1ad-bf82-421a-9dd7-788c6977ffe1",
   "metadata": {},
   "outputs": [
    {
     "data": {
      "image/png": "[encoded data removed]",
      "text/plain": [
       "<Figure size 1000x800 with 3 Axes>"
      ]
     },
     "metadata": {},
     "output_type": "display_data"
    }
   ],
   "source": [
    "# let's visualise the RFM values \n",
    "colors = ['#3498db', '#2ecc71', '#f39c12','#C9B1BD']\n",
    "\n",
    "# Plot the average RFM scores for each cluster\n",
    "plt.figure(figsize=(10, 8),dpi=100)\n",
    "\n",
    "# Plot Avg Recency\n",
    "plt.subplot(3, 1, 1)\n",
    "bars = plt.bar(cluster_summary.index, cluster_summary['R_Score'], color=colors)\n",
    "plt.xlabel('Cluster')\n",
    "plt.ylabel('Avg Recency')\n",
    "plt.title('Average Recency for Each Cluster')\n",
    "\n",
    "plt.grid(True, linestyle='--', alpha=0.5)\n",
    "plt.legend(bars, cluster_summary.index, title='Clusters')\n",
    "\n",
    "# Plot Avg Frequency\n",
    "plt.subplot(3, 1, 2)\n",
    "bars = plt.bar(cluster_summary.index, cluster_summary['F_Score'], color=colors)\n",
    "plt.xlabel('Cluster')\n",
    "plt.ylabel('Avg Frequency')\n",
    "plt.title('Average Frequency for Each Cluster')\n",
    "plt.grid(True, linestyle='--', alpha=0.5)\n",
    "plt.legend(bars, cluster_summary.index, title='Clusters')\n",
    "\n",
    "# Plot Avg Monetary\n",
    "plt.subplot(3, 1, 3)\n",
    "bars = plt.bar(cluster_summary.index, cluster_summary['M_Score'], color=colors)\n",
    "plt.xlabel('Cluster')\n",
    "plt.ylabel('Avg Monetary')\n",
    "plt.title('Average Monetary Value for Each Cluster')\n",
    "plt.grid(True, linestyle='--', alpha=0.5)\n",
    "plt.legend(bars, cluster_summary.index, title='Clusters')\n",
    "\n",
    "plt.tight_layout()\n",
    "plt.show()"
   ]
  },
  {
   "cell_type": "markdown",
   "id": "75fcb2ed-7af0-426e-b1de-e3dfa7710221",
   "metadata": {},
   "source": [
    "Cluster 0: This cluster has the lowest recency and moderate frequency, and monetary values.so they are at-Risk customers.\n",
    "\n",
    "Cluster 1: This cluster is characterized by moderate frequency,recency and monetary values. Let's call them loyal customers.\n",
    "\n",
    "Cluster 2: This cluster is characterized by high recency and relatively lower frequency and moderate monetary values. So these are recent customers who can potentially become long-term customers.\n",
    "\n",
    "Cluster 3: Of all the four clusters, this cluster has the highest recency, frequency, and monetary values. Let’s call the customers in this cluster champions."
   ]
  },
  {
   "cell_type": "markdown",
   "id": "9155edf8-cc86-4fd7-964f-c5cec2d32294",
   "metadata": {},
   "source": [
    "# 6.Conclusion\n",
    "\n",
    "1. For Champions: Offer personalized special discounts, early access, and other premium perks to make them feel valued and appreciated.\n",
    "\n",
    "2. For Loyal Customers: Appreciation campaigns, referral bonuses, and rewards for loyalty.\n",
    "\n",
    "3. For At-Risk Customers: Re-engagement efforts that include running discounts or promotions to encourage buying.\n",
    "\n",
    "4. For Recent Customers: Targeted campaigns educating them about the brand and discounts on subsequent purchases. \n"
   ]
  },
  {
   "cell_type": "code",
   "execution_count": 83,
   "id": "419cba17-ba17-42e9-90ec-fdf6f7f02ebe",
   "metadata": {},
   "outputs": [
    {
     "data": {
      "image/png": "[encoded data removed]",
      "text/plain": [
       "<Figure size 750x750 with 1 Axes>"
      ]
     },
     "metadata": {},
     "output_type": "display_data"
    }
   ],
   "source": [
    "cluster_counts = rfm['Cluster'].value_counts()\n",
    "\n",
    "colors = ['#3498db', '#2ecc71', '#f39c12','#C9B1BD']\n",
    "# Calculate the total number of customers\n",
    "total_customers = cluster_counts.sum()\n",
    "\n",
    "# Calculate the percentage of customers in each cluster\n",
    "percentage_customers = (cluster_counts / total_customers) * 100\n",
    "\n",
    "labels = ['At-risk Customers','Loyal Customers','Recent Customers','Champions']\n",
    "\n",
    "# Create a pie chart\n",
    "plt.figure(figsize=(5, 5),dpi=150)\n",
    "plt.pie(percentage_customers, labels=labels, autopct='%1.1f%%', startangle=90, colors=colors)\n",
    "plt.title('Percentage of Customers in Each Cluster')\n",
    "plt.legend(cluster_summary['Cluster'], title='Cluster', loc='upper left')\n",
    "\n",
    "plt.show()"
   ]
  },
  {
   "cell_type": "code",
   "execution_count": null,
   "id": "31d87ffe-472c-442f-b562-de9121c62a59",
   "metadata": {},
   "outputs": [],
   "source": []
  }
 ],
 "metadata": {
  "kernelspec": {
   "display_name": "Python 3 (ipykernel)",
   "language": "python",
   "name": "python3"
  },
  "language_info": {
   "codemirror_mode": {
    "name": "ipython",
    "version": 3
   },
   "file_extension": ".py",
   "mimetype": "text/x-python",
   "name": "python",
   "nbconvert_exporter": "python",
   "pygments_lexer": "ipython3",
   "version": "3.12.7"
  }
 },
 "nbformat": 4,
 "nbformat_minor": 5
}
